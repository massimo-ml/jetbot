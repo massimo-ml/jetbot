{
 "cells": [
  {
   "cell_type": "markdown",
   "metadata": {},
   "source": [
    "## Imports"
   ]
  },
  {
   "cell_type": "code",
   "execution_count": 1,
   "metadata": {},
   "outputs": [],
   "source": [
    "import glob\n",
    "import os\n",
    "import cv2\n",
    "import random\n",
    "import torch\n",
    "import torchvision\n",
    "\n",
    "import torch.nn.functional as F\n",
    "import pandas as pd\n",
    "import numpy as np\n",
    "import matplotlib.pyplot as plt\n",
    "from tqdm import tqdm\n",
    "\n",
    "from torch import nn\n",
    "from typing import Tuple, Any\n",
    "from torch.utils.data import Dataset, DataLoader\n",
    "from torchvision.transforms import v2\n",
    "import torchvision.models as models"
   ]
  },
  {
   "cell_type": "code",
   "execution_count": 2,
   "metadata": {},
   "outputs": [],
   "source": [
    "os.environ[\"KMP_DUPLICATE_LIB_OK\"] = (\n",
    "    \"True\"  # A fix for some strange matplotlib error\n",
    ")"
   ]
  },
  {
   "cell_type": "code",
   "execution_count": 3,
   "metadata": {},
   "outputs": [],
   "source": [
    "MODELS_DIR = \"models\"\n",
    "DATASET_DIR = \"dataset\""
   ]
  },
  {
   "cell_type": "markdown",
   "metadata": {},
   "source": [
    "## Set seed"
   ]
  },
  {
   "cell_type": "code",
   "execution_count": 4,
   "metadata": {},
   "outputs": [],
   "source": [
    "seed = 44\n",
    "torch.manual_seed(seed)\n",
    "random.seed(seed)\n",
    "np.random.seed(seed)"
   ]
  },
  {
   "cell_type": "markdown",
   "metadata": {},
   "source": [
    "## Load data"
   ]
  },
  {
   "cell_type": "code",
   "execution_count": 6,
   "metadata": {},
   "outputs": [
    {
     "ename": "KeyboardInterrupt",
     "evalue": "",
     "output_type": "error",
     "traceback": [
      "\u001b[1;31m---------------------------------------------------------------------------\u001b[0m",
      "\u001b[1;31mKeyboardInterrupt\u001b[0m                         Traceback (most recent call last)",
      "Cell \u001b[1;32mIn[6], line 28\u001b[0m\n\u001b[0;32m     24\u001b[0m     photos \u001b[38;5;241m=\u001b[39m torch\u001b[38;5;241m.\u001b[39mfrom_numpy(np\u001b[38;5;241m.\u001b[39marray(photos))\n\u001b[0;32m     25\u001b[0m     \u001b[38;5;28;01mreturn\u001b[39;00m df, photos\n\u001b[1;32m---> 28\u001b[0m df, photos \u001b[38;5;241m=\u001b[39m load_data(DATASET_DIR)\n\u001b[0;32m     29\u001b[0m df\n",
      "Cell \u001b[1;32mIn[6], line 16\u001b[0m, in \u001b[0;36mload_data\u001b[1;34m(dataset_folder_path)\u001b[0m\n\u001b[0;32m     14\u001b[0m photo_paths \u001b[38;5;241m=\u001b[39m glob\u001b[38;5;241m.\u001b[39mglob(\u001b[38;5;124mf\u001b[39m\u001b[38;5;124m\"\u001b[39m\u001b[38;5;132;01m{\u001b[39;00mphoto_folder_name\u001b[38;5;132;01m}\u001b[39;00m\u001b[38;5;124m/*.jpg\u001b[39m\u001b[38;5;124m\"\u001b[39m)\n\u001b[0;32m     15\u001b[0m \u001b[38;5;28;01mfor\u001b[39;00m photo_path \u001b[38;5;129;01min\u001b[39;00m photo_paths:\n\u001b[1;32m---> 16\u001b[0m     photos\u001b[38;5;241m.\u001b[39mappend(torchvision\u001b[38;5;241m.\u001b[39mio\u001b[38;5;241m.\u001b[39mread_image(photo_path))\n\u001b[0;32m     17\u001b[0m folder_df[\u001b[38;5;124m\"\u001b[39m\u001b[38;5;124mphoto_id\u001b[39m\u001b[38;5;124m\"\u001b[39m] \u001b[38;5;241m=\u001b[39m folder_df\u001b[38;5;241m.\u001b[39mindex \u001b[38;5;241m+\u001b[39m curr_photo_id\n\u001b[0;32m     18\u001b[0m curr_photo_id \u001b[38;5;241m+\u001b[39m\u001b[38;5;241m=\u001b[39m folder_df\u001b[38;5;241m.\u001b[39mindex\u001b[38;5;241m.\u001b[39mmax() \u001b[38;5;241m+\u001b[39m \u001b[38;5;241m1\u001b[39m\n",
      "File \u001b[1;32md:\\Users\\Kajetan\\anaconda3\\Lib\\site-packages\\torchvision\\io\\image.py:258\u001b[0m, in \u001b[0;36mread_image\u001b[1;34m(path, mode)\u001b[0m\n\u001b[0;32m    256\u001b[0m \u001b[38;5;28;01mif\u001b[39;00m \u001b[38;5;129;01mnot\u001b[39;00m torch\u001b[38;5;241m.\u001b[39mjit\u001b[38;5;241m.\u001b[39mis_scripting() \u001b[38;5;129;01mand\u001b[39;00m \u001b[38;5;129;01mnot\u001b[39;00m torch\u001b[38;5;241m.\u001b[39mjit\u001b[38;5;241m.\u001b[39mis_tracing():\n\u001b[0;32m    257\u001b[0m     _log_api_usage_once(read_image)\n\u001b[1;32m--> 258\u001b[0m data \u001b[38;5;241m=\u001b[39m read_file(path)\n\u001b[0;32m    259\u001b[0m \u001b[38;5;28;01mreturn\u001b[39;00m decode_image(data, mode)\n",
      "File \u001b[1;32md:\\Users\\Kajetan\\anaconda3\\Lib\\site-packages\\torchvision\\io\\image.py:52\u001b[0m, in \u001b[0;36mread_file\u001b[1;34m(path)\u001b[0m\n\u001b[0;32m     50\u001b[0m \u001b[38;5;28;01mif\u001b[39;00m \u001b[38;5;129;01mnot\u001b[39;00m torch\u001b[38;5;241m.\u001b[39mjit\u001b[38;5;241m.\u001b[39mis_scripting() \u001b[38;5;129;01mand\u001b[39;00m \u001b[38;5;129;01mnot\u001b[39;00m torch\u001b[38;5;241m.\u001b[39mjit\u001b[38;5;241m.\u001b[39mis_tracing():\n\u001b[0;32m     51\u001b[0m     _log_api_usage_once(read_file)\n\u001b[1;32m---> 52\u001b[0m data \u001b[38;5;241m=\u001b[39m torch\u001b[38;5;241m.\u001b[39mops\u001b[38;5;241m.\u001b[39mimage\u001b[38;5;241m.\u001b[39mread_file(path)\n\u001b[0;32m     53\u001b[0m \u001b[38;5;28;01mreturn\u001b[39;00m data\n",
      "File \u001b[1;32md:\\Users\\Kajetan\\anaconda3\\Lib\\site-packages\\torch\\_ops.py:755\u001b[0m, in \u001b[0;36mOpOverloadPacket.__call__\u001b[1;34m(self, *args, **kwargs)\u001b[0m\n\u001b[0;32m    750\u001b[0m \u001b[38;5;28;01mdef\u001b[39;00m \u001b[38;5;21m__call__\u001b[39m(\u001b[38;5;28mself\u001b[39m, \u001b[38;5;241m*\u001b[39margs, \u001b[38;5;241m*\u001b[39m\u001b[38;5;241m*\u001b[39mkwargs):\n\u001b[0;32m    751\u001b[0m     \u001b[38;5;66;03m# overloading __call__ to ensure torch.ops.foo.bar()\u001b[39;00m\n\u001b[0;32m    752\u001b[0m     \u001b[38;5;66;03m# is still callable from JIT\u001b[39;00m\n\u001b[0;32m    753\u001b[0m     \u001b[38;5;66;03m# We save the function ptr as the `op` attribute on\u001b[39;00m\n\u001b[0;32m    754\u001b[0m     \u001b[38;5;66;03m# OpOverloadPacket to access it here.\u001b[39;00m\n\u001b[1;32m--> 755\u001b[0m     \u001b[38;5;28;01mreturn\u001b[39;00m \u001b[38;5;28mself\u001b[39m\u001b[38;5;241m.\u001b[39m_op(\u001b[38;5;241m*\u001b[39margs, \u001b[38;5;241m*\u001b[39m\u001b[38;5;241m*\u001b[39m(kwargs \u001b[38;5;129;01mor\u001b[39;00m {}))\n",
      "\u001b[1;31mKeyboardInterrupt\u001b[0m: "
     ]
    }
   ],
   "source": [
    "def load_data(dataset_folder_path: str) -> Tuple[pd.DataFrame, torch.Tensor]:\n",
    "    \"\"\"\n",
    "    Returns pd.Dataframe with targets and torch.tensor with photo data\n",
    "    \"\"\"\n",
    "    df = None\n",
    "    photos = []\n",
    "    curr_photo_id = 0\n",
    "    for csv_file in glob.glob(f\"{dataset_folder_path}/*.csv\"):\n",
    "        folder_df = pd.read_csv(\n",
    "            csv_file, header=None, names=[\"filename\", \"forward\", \"left\"]\n",
    "        )\n",
    "        photo_folder_name = os.path.splitext(csv_file)[0]\n",
    "        folder_df[\"folder_name\"] = photo_folder_name\n",
    "        photo_paths = glob.glob(f\"{photo_folder_name}/*.jpg\")\n",
    "        for photo_path in photo_paths:\n",
    "            photos.append(torchvision.io.read_image(photo_path))\n",
    "        folder_df[\"photo_id\"] = folder_df.index + curr_photo_id\n",
    "        curr_photo_id += folder_df.index.max() + 1\n",
    "        if df is None:\n",
    "            df = folder_df\n",
    "        else:\n",
    "            df = pd.concat([df, folder_df], axis=0)\n",
    "    df = df.set_index(\"photo_id\")\n",
    "    photos = torch.from_numpy(np.array(photos))\n",
    "    return df, photos\n",
    "\n",
    "\n",
    "df, photos = load_data(DATASET_DIR)\n",
    "df"
   ]
  },
  {
   "cell_type": "markdown",
   "metadata": {},
   "source": [
    "## Dataset"
   ]
  },
  {
   "cell_type": "code",
   "execution_count": 6,
   "metadata": {},
   "outputs": [],
   "source": [
    "class JetbotDataset(Dataset):\n",
    "    def __init__(\n",
    "        self,\n",
    "        df: pd.DataFrame,\n",
    "        images: torch.Tensor,\n",
    "        transforms: list | None = None,\n",
    "        normalize_images: bool = True\n",
    "    ) -> None:\n",
    "        \"\"\"\n",
    "        df: pd.DataFrame loaded by load_data()\n",
    "        images: torch.tensor with image data loaded by load_data()\n",
    "        transforms: a list of transforms to augment the data with\n",
    "        \"\"\"\n",
    "        super().__init__()\n",
    "        if transforms is None:\n",
    "            transforms = []\n",
    "        self.df = df\n",
    "        self.images = images\n",
    "        self.transforms = transforms\n",
    "        self.normalize_images = normalize_images\n",
    "\n",
    "    def __len__(self) -> int:\n",
    "        return self.df.shape[0]\n",
    "\n",
    "    def __getitem__(self, index) -> Tuple[torch.Tensor, torch.Tensor]:\n",
    "        sample = self.df.iloc[index]\n",
    "        target = torch.tensor([sample.forward, sample.left], dtype=torch.float32)\n",
    "        img = self.images[index].float()\n",
    "        if self.normalize_images:\n",
    "            img = img / 255.0\n",
    "        for transform in self.transforms:\n",
    "            img, target = transform(img, target)\n",
    "            \n",
    "        return img, target"
   ]
  },
  {
   "cell_type": "code",
   "execution_count": 7,
   "metadata": {},
   "outputs": [],
   "source": [
    "def display_image(img: torch.Tensor, target: torch.Tensor = None):\n",
    "    temp_img = img.numpy().transpose((1, 2, 0))\n",
    "    if img.max() > 1.0: # the images are not normalized\n",
    "        temp_img = temp_img.astype(np.uint8)\n",
    "    plt.imshow(temp_img)\n",
    "    if target is not None:\n",
    "        plt.text(\n",
    "            0,\n",
    "            -10,\n",
    "            f'Target: [{\",\".join([str(i) for i in target])}]',\n",
    "            fontsize=\"x-large\",\n",
    "        )"
   ]
  },
  {
   "cell_type": "markdown",
   "metadata": {},
   "source": [
    "## Transforms"
   ]
  },
  {
   "cell_type": "code",
   "execution_count": 8,
   "metadata": {},
   "outputs": [],
   "source": [
    "import torchvision.transforms.functional\n",
    "\n",
    "\n",
    "class RandomJetbotHorizontalFlip(torch.nn.Module):\n",
    "    def __init__(self, p: float = 0.5) -> None:\n",
    "        super().__init__()\n",
    "        self.p = p\n",
    "\n",
    "    def forward(self, *inputs: Any) -> Any:\n",
    "        img, target = inputs\n",
    "        if np.random.random() <= self.p:  # Flip\n",
    "            img = torchvision.transforms.functional.hflip(img)\n",
    "            target[1] *= -1  # Flip 'left' component\n",
    "        return img, target\n",
    "\n",
    "\n",
    "class RandomJetbotGamma(torch.nn.Module):\n",
    "    def __init__(self, p: float = 0.5, gamma_range: tuple[float, float] = (0.1, 3)):\n",
    "        super().__init__()\n",
    "        self.p = p\n",
    "        self.gamma_range = gamma_range\n",
    "\n",
    "    def forward(self, img: torch.Tensor, target: torch.Tensor):\n",
    "        if np.random.random() < self.p:\n",
    "            gamma = np.random.uniform(self.gamma_range[0], self.gamma_range[1])\n",
    "            img = torchvision.transforms.functional.adjust_gamma(img, gamma)\n",
    "        return img, target\n",
    "\n",
    "# Vertical flip doesn't make sense in our problem\n",
    "\n",
    "train_transforms = [\n",
    "    RandomJetbotHorizontalFlip(p=0.5), \n",
    "    RandomJetbotGamma(p=0.5, gamma_range=(0.1, 3))\n",
    "]  # Feel free to add more\n",
    "test_transforms = []  # Test on original examples"
   ]
  },
  {
   "cell_type": "code",
   "execution_count": 9,
   "metadata": {},
   "outputs": [
    {
     "data": {
      "image/png": "[encoded data removed]",
      "text/plain": [
       "<Figure size 640x480 with 1 Axes>"
      ]
     },
     "metadata": {},
     "output_type": "display_data"
    }
   ],
   "source": [
    "dataset = JetbotDataset(df, photos, train_transforms)\n",
    "img, target = dataset[400]\n",
    "display_image(img, target)"
   ]
  },
  {
   "cell_type": "markdown",
   "metadata": {},
   "source": [
    "## Train-test-validation split"
   ]
  },
  {
   "cell_type": "code",
   "execution_count": 10,
   "metadata": {},
   "outputs": [],
   "source": [
    "train_size = 0.7\n",
    "val_size = 0.15\n",
    "test_size = 1 - (train_size + val_size)\n",
    "batch_size = 64\n",
    "\n",
    "data_indices = np.random.permutation(np.arange(df.shape[0]))\n",
    "\n",
    "train_end_index = int(len(data_indices) * train_size)\n",
    "val_end_index = train_end_index + int(len(data_indices) * val_size)\n",
    "\n",
    "train_dataloader = DataLoader(\n",
    "    JetbotDataset(\n",
    "        df.iloc[data_indices[:train_end_index]],\n",
    "        photos[data_indices[:train_end_index]],\n",
    "        transforms=train_transforms\n",
    "    ),\n",
    "    batch_size=batch_size,\n",
    ")\n",
    "\n",
    "val_dataloader = DataLoader(\n",
    "    JetbotDataset(\n",
    "        df.iloc[data_indices[train_end_index:val_end_index]],\n",
    "        photos[data_indices[train_end_index:val_end_index]],\n",
    "    ),\n",
    "    batch_size=batch_size,\n",
    ")\n",
    "\n",
    "test_dataloader = DataLoader(\n",
    "    JetbotDataset(\n",
    "        df.iloc[data_indices[val_end_index:]],\n",
    "        photos[data_indices[val_end_index:]],\n",
    "    ),\n",
    "    batch_size=batch_size,\n",
    ")"
   ]
  },
  {
   "cell_type": "markdown",
   "metadata": {},
   "source": [
    "## Training / Evaluation functions."
   ]
  },
  {
   "cell_type": "code",
   "execution_count": 11,
   "metadata": {},
   "outputs": [],
   "source": [
    "def train_model(\n",
    "    model: nn.Module,\n",
    "    epochs: int,\n",
    "    trainloader: DataLoader,\n",
    "    validloader: DataLoader,\n",
    "    optimizer: torch.optim.Optimizer,\n",
    "    loss_func: callable,\n",
    "    model_save_path: str,\n",
    "    force_cuda: bool = False,\n",
    "):\n",
    "    \"\"\"\n",
    "    Taken from https://www.geeksforgeeks.org/training-neural-networks-with-validation-using-pytorch/,\n",
    "    feel free to change it\n",
    "    \"\"\"\n",
    "    if force_cuda and torch.cuda.is_available():\n",
    "        model.cuda()\n",
    "\n",
    "    min_valid_loss = np.inf\n",
    "    for e in range(epochs):\n",
    "        train_loss = 0.0\n",
    "        model.train()  # Optional when not using Model Specific layer\n",
    "        for data, labels in tqdm(trainloader):\n",
    "            if force_cuda and torch.cuda.is_available():\n",
    "                data, labels = data.cuda(), labels.cuda()\n",
    "\n",
    "            optimizer.zero_grad()\n",
    "            target = model(data)\n",
    "            loss = loss_func(target, labels)\n",
    "            loss.backward()\n",
    "            optimizer.step()\n",
    "            train_loss += loss.item()\n",
    "\n",
    "        valid_loss = 0.0\n",
    "        model.eval()  # Optional when not using Model Specific layer\n",
    "        for data, labels in tqdm(validloader):\n",
    "            if torch.cuda.is_available():\n",
    "                data, labels = data.cuda(), labels.cuda()\n",
    "\n",
    "            target = model(data)\n",
    "            loss = loss_func(target, labels)\n",
    "            valid_loss = loss.item() * data.size(0)\n",
    "\n",
    "        print(\n",
    "            f\"Epoch {e+1} \\t\\t Training Loss: {train_loss / len(trainloader)} \\t\\t Validation Loss: {valid_loss / len(validloader)}\"\n",
    "        )\n",
    "        \n",
    "        if min_valid_loss > valid_loss:\n",
    "            print(\n",
    "                f\"Validation Loss Decreased({min_valid_loss:.6f}--->{valid_loss:.6f}) \\t Saving The Model\"\n",
    "            )\n",
    "            min_valid_loss = valid_loss\n",
    "            # Saving State Dict\n",
    "            torch.save(model.state_dict(), model_save_path)"
   ]
  },
  {
   "cell_type": "code",
   "execution_count": 12,
   "metadata": {},
   "outputs": [],
   "source": [
    "def evaluate_model(\n",
    "    model: nn.Module,\n",
    "    dataloader: DataLoader,\n",
    "    loss_func: callable,\n",
    "    device: torch.device = torch.device('cuda' if torch.cuda.is_available() else 'cpu')\n",
    "):\n",
    "    model.to(device)\n",
    "    model.eval()\n",
    "\n",
    "    total_loss = 0.0\n",
    "    total_samples = 0\n",
    "\n",
    "    with torch.no_grad():\n",
    "        for data, labels in dataloader:\n",
    "            data, labels = data.to(device), labels.to(device)\n",
    "\n",
    "            outputs = model(data)\n",
    "            loss = loss_func(outputs, labels)\n",
    "            \n",
    "            total_loss += loss.item() * data.size(0)\n",
    "            total_samples += data.size(0)\n",
    "\n",
    "    avg_loss = total_loss / total_samples\n",
    "    return avg_loss"
   ]
  },
  {
   "cell_type": "markdown",
   "metadata": {},
   "source": [
    "## Model 1: Classical Convolution"
   ]
  },
  {
   "cell_type": "code",
   "execution_count": 68,
   "metadata": {},
   "outputs": [],
   "source": [
    "class ClassicConv(nn.Module):\n",
    "    def __init__(self, *args, **kwargs) -> None:\n",
    "        super().__init__(*args, **kwargs)\n",
    "        self.conv_block1 = nn.Sequential(\n",
    "            nn.Conv2d(3, 10, kernel_size=(3, 3), padding=\"same\"),\n",
    "            nn.ReLU(),\n",
    "            nn.MaxPool2d(kernel_size=(2, 2)),\n",
    "        )\n",
    "        self.conv_block2 = nn.Sequential(\n",
    "            nn.Conv2d(10, 50, kernel_size=(3, 3), padding=\"same\"),\n",
    "            nn.ReLU(),\n",
    "            nn.MaxPool2d(kernel_size=(2, 2)),\n",
    "        )\n",
    "        self.conv_block3 = nn.Sequential(\n",
    "            nn.Conv2d(50, 100, kernel_size=(3, 3), padding=\"same\"),\n",
    "            nn.ReLU(),\n",
    "            nn.MaxPool2d(kernel_size=(2, 2)),\n",
    "        )\n",
    "        self.global_pool = nn.AdaptiveMaxPool2d((1, 1))\n",
    "        self.fully_connected = nn.Sequential(\n",
    "            nn.Linear(100, 50),\n",
    "            nn.ReLU(),\n",
    "            nn.Linear(50, 10),\n",
    "            nn.ReLU(),\n",
    "            nn.Linear(10, 2),\n",
    "            nn.Tanh(),\n",
    "        )\n",
    "\n",
    "    def forward(self, x: torch.Tensor):\n",
    "        x = self.conv_block1(x)\n",
    "        x = self.conv_block2(x)\n",
    "        x = self.conv_block3(x)\n",
    "        x = self.global_pool(x)\n",
    "        x = x.flatten(1, -1)\n",
    "        x = self.fully_connected(x)\n",
    "        return x"
   ]
  },
  {
   "cell_type": "code",
   "execution_count": 69,
   "metadata": {},
   "outputs": [
    {
     "name": "stdout",
     "output_type": "stream",
     "text": [
      "ClassicConv(\n",
      "  (conv_block1): Sequential(\n",
      "    (0): Conv2d(3, 10, kernel_size=(3, 3), stride=(1, 1), padding=same)\n",
      "    (1): ReLU()\n",
      "    (2): MaxPool2d(kernel_size=(2, 2), stride=(2, 2), padding=0, dilation=1, ceil_mode=False)\n",
      "  )\n",
      "  (conv_block2): Sequential(\n",
      "    (0): Conv2d(10, 50, kernel_size=(3, 3), stride=(1, 1), padding=same)\n",
      "    (1): ReLU()\n",
      "    (2): MaxPool2d(kernel_size=(2, 2), stride=(2, 2), padding=0, dilation=1, ceil_mode=False)\n",
      "  )\n",
      "  (conv_block3): Sequential(\n",
      "    (0): Conv2d(50, 100, kernel_size=(3, 3), stride=(1, 1), padding=same)\n",
      "    (1): ReLU()\n",
      "    (2): MaxPool2d(kernel_size=(2, 2), stride=(2, 2), padding=0, dilation=1, ceil_mode=False)\n",
      "  )\n",
      "  (global_pool): AdaptiveMaxPool2d(output_size=(1, 1))\n",
      "  (fully_connected): Sequential(\n",
      "    (0): Linear(in_features=100, out_features=50, bias=True)\n",
      "    (1): ReLU()\n",
      "    (2): Linear(in_features=50, out_features=10, bias=True)\n",
      "    (3): ReLU()\n",
      "    (4): Linear(in_features=10, out_features=2, bias=True)\n",
      "    (5): Tanh()\n",
      "  )\n",
      ")\n",
      "Total number of parameters = 55512\n"
     ]
    }
   ],
   "source": [
    "conv_model = ClassicConv()\n",
    "optimizer = torch.optim.Adam(conv_model.parameters(), lr=0.001)\n",
    "loss = nn.MSELoss()\n",
    "print(conv_model)\n",
    "print(f\"Total number of parameters = {sum(p.numel() for p in conv_model.parameters())}\")"
   ]
  },
  {
   "cell_type": "code",
   "execution_count": 70,
   "metadata": {},
   "outputs": [
    {
     "name": "stderr",
     "output_type": "stream",
     "text": [
      "  0%|          | 0/83 [00:00<?, ?it/s]"
     ]
    },
    {
     "name": "stderr",
     "output_type": "stream",
     "text": [
      "100%|██████████| 83/83 [00:10<00:00,  7.87it/s]\n",
      "100%|██████████| 18/18 [00:00<00:00, 18.93it/s]\n"
     ]
    },
    {
     "name": "stdout",
     "output_type": "stream",
     "text": [
      "Epoch 1 \t\t Training Loss: 0.258363090186234 \t\t Validation Loss: 0.8129446026351717\n",
      "Validation Loss Decreased(inf--->14.633003) \t Saving The Model\n"
     ]
    },
    {
     "name": "stderr",
     "output_type": "stream",
     "text": [
      "100%|██████████| 83/83 [00:10<00:00,  7.88it/s]\n",
      "100%|██████████| 18/18 [00:01<00:00, 13.57it/s]\n"
     ]
    },
    {
     "name": "stdout",
     "output_type": "stream",
     "text": [
      "Epoch 2 \t\t Training Loss: 0.2416857321219272 \t\t Validation Loss: 0.8142591284381019\n"
     ]
    },
    {
     "name": "stderr",
     "output_type": "stream",
     "text": [
      "100%|██████████| 83/83 [00:10<00:00,  8.17it/s]\n",
      "100%|██████████| 18/18 [00:01<00:00, 10.92it/s]\n"
     ]
    },
    {
     "name": "stdout",
     "output_type": "stream",
     "text": [
      "Epoch 3 \t\t Training Loss: 0.2413023022643055 \t\t Validation Loss: 0.8243280731969409\n"
     ]
    },
    {
     "name": "stderr",
     "output_type": "stream",
     "text": [
      "100%|██████████| 83/83 [00:10<00:00,  7.57it/s]\n",
      "100%|██████████| 18/18 [00:01<00:00, 14.08it/s]\n"
     ]
    },
    {
     "name": "stdout",
     "output_type": "stream",
     "text": [
      "Epoch 4 \t\t Training Loss: 0.23378759838012328 \t\t Validation Loss: 0.797857532898585\n",
      "Validation Loss Decreased(14.633003--->14.361436) \t Saving The Model\n"
     ]
    },
    {
     "name": "stderr",
     "output_type": "stream",
     "text": [
      "100%|██████████| 83/83 [00:11<00:00,  7.13it/s]\n",
      "100%|██████████| 18/18 [00:01<00:00, 11.53it/s]\n"
     ]
    },
    {
     "name": "stdout",
     "output_type": "stream",
     "text": [
      "Epoch 5 \t\t Training Loss: 0.23208867390471768 \t\t Validation Loss: 0.791933364338345\n",
      "Validation Loss Decreased(14.361436--->14.254801) \t Saving The Model\n"
     ]
    },
    {
     "name": "stderr",
     "output_type": "stream",
     "text": [
      "100%|██████████| 83/83 [00:10<00:00,  7.77it/s]\n",
      "100%|██████████| 18/18 [00:00<00:00, 18.68it/s]\n"
     ]
    },
    {
     "name": "stdout",
     "output_type": "stream",
     "text": [
      "Epoch 6 \t\t Training Loss: 0.22945379762046308 \t\t Validation Loss: 0.7961734665764703\n"
     ]
    },
    {
     "name": "stderr",
     "output_type": "stream",
     "text": [
      "100%|██████████| 83/83 [00:10<00:00,  7.93it/s]\n",
      "100%|██████████| 18/18 [00:01<00:00, 17.01it/s]\n"
     ]
    },
    {
     "name": "stdout",
     "output_type": "stream",
     "text": [
      "Epoch 7 \t\t Training Loss: 0.2298077350280371 \t\t Validation Loss: 0.7896822906202741\n",
      "Validation Loss Decreased(14.254801--->14.214281) \t Saving The Model\n"
     ]
    },
    {
     "name": "stderr",
     "output_type": "stream",
     "text": [
      "100%|██████████| 83/83 [00:10<00:00,  7.97it/s]\n",
      "100%|██████████| 18/18 [00:00<00:00, 19.28it/s]\n"
     ]
    },
    {
     "name": "stdout",
     "output_type": "stream",
     "text": [
      "Epoch 8 \t\t Training Loss: 0.22898945320083433 \t\t Validation Loss: 0.7745613091521792\n",
      "Validation Loss Decreased(14.214281--->13.942104) \t Saving The Model\n"
     ]
    },
    {
     "name": "stderr",
     "output_type": "stream",
     "text": [
      "100%|██████████| 83/83 [00:10<00:00,  8.14it/s]\n",
      "100%|██████████| 18/18 [00:00<00:00, 18.98it/s]\n"
     ]
    },
    {
     "name": "stdout",
     "output_type": "stream",
     "text": [
      "Epoch 9 \t\t Training Loss: 0.2284250753112586 \t\t Validation Loss: 0.8327726622422537\n"
     ]
    },
    {
     "name": "stderr",
     "output_type": "stream",
     "text": [
      "100%|██████████| 83/83 [00:10<00:00,  7.94it/s]\n",
      "100%|██████████| 18/18 [00:01<00:00, 17.51it/s]\n"
     ]
    },
    {
     "name": "stdout",
     "output_type": "stream",
     "text": [
      "Epoch 10 \t\t Training Loss: 0.22663365160844412 \t\t Validation Loss: 0.8078984071811041\n"
     ]
    },
    {
     "name": "stderr",
     "output_type": "stream",
     "text": [
      "100%|██████████| 83/83 [00:10<00:00,  8.00it/s]\n",
      "100%|██████████| 18/18 [00:01<00:00, 14.83it/s]\n"
     ]
    },
    {
     "name": "stdout",
     "output_type": "stream",
     "text": [
      "Epoch 11 \t\t Training Loss: 0.2255509574729276 \t\t Validation Loss: 0.8145517590973113\n"
     ]
    },
    {
     "name": "stderr",
     "output_type": "stream",
     "text": [
      "100%|██████████| 83/83 [00:11<00:00,  7.25it/s]\n",
      "100%|██████████| 18/18 [00:00<00:00, 19.17it/s]\n"
     ]
    },
    {
     "name": "stdout",
     "output_type": "stream",
     "text": [
      "Epoch 12 \t\t Training Loss: 0.22201799035790454 \t\t Validation Loss: 0.8253840423292584\n"
     ]
    },
    {
     "name": "stderr",
     "output_type": "stream",
     "text": [
      "100%|██████████| 83/83 [00:10<00:00,  8.02it/s]\n",
      "100%|██████████| 18/18 [00:00<00:00, 18.92it/s]\n"
     ]
    },
    {
     "name": "stdout",
     "output_type": "stream",
     "text": [
      "Epoch 13 \t\t Training Loss: 0.22390035656561336 \t\t Validation Loss: 0.801966937051879\n"
     ]
    },
    {
     "name": "stderr",
     "output_type": "stream",
     "text": [
      "100%|██████████| 83/83 [00:11<00:00,  7.42it/s]\n",
      "100%|██████████| 18/18 [00:01<00:00, 14.87it/s]\n"
     ]
    },
    {
     "name": "stdout",
     "output_type": "stream",
     "text": [
      "Epoch 14 \t\t Training Loss: 0.21784499628716206 \t\t Validation Loss: 0.8047840446233749\n"
     ]
    },
    {
     "name": "stderr",
     "output_type": "stream",
     "text": [
      "100%|██████████| 83/83 [00:11<00:00,  7.05it/s]\n",
      "100%|██████████| 18/18 [00:00<00:00, 18.73it/s]"
     ]
    },
    {
     "name": "stdout",
     "output_type": "stream",
     "text": [
      "Epoch 15 \t\t Training Loss: 0.21579600044761796 \t\t Validation Loss: 0.8172070152229733\n"
     ]
    },
    {
     "name": "stderr",
     "output_type": "stream",
     "text": [
      "\n"
     ]
    }
   ],
   "source": [
    "train_model(\n",
    "    conv_model,\n",
    "    epochs=15,\n",
    "    trainloader=train_dataloader,\n",
    "    validloader=val_dataloader,\n",
    "    optimizer=optimizer,\n",
    "    loss_func=loss,\n",
    "    model_save_path=f'{MODELS_DIR}/Model1.pth',\n",
    "    force_cuda=True\n",
    ")"
   ]
  },
  {
   "cell_type": "code",
   "execution_count": 18,
   "metadata": {},
   "outputs": [
    {
     "name": "stdout",
     "output_type": "stream",
     "text": [
      "Test Loss: 0.1190\n"
     ]
    }
   ],
   "source": [
    "conv_model.load_state_dict(torch.load('Model1.pth'))\n",
    "\n",
    "avg_loss = evaluate_model(conv_model, test_dataloader, nn.MSELoss())\n",
    "print(f'Test Loss: {avg_loss:.4f}')"
   ]
  },
  {
   "cell_type": "markdown",
   "metadata": {},
   "source": [
    "## Model 2: deeper conv model"
   ]
  },
  {
   "cell_type": "code",
   "execution_count": 75,
   "metadata": {},
   "outputs": [],
   "source": [
    "class DeepConv(nn.Module):\n",
    "    def __init__(self, *args, **kwargs) -> None:\n",
    "        super().__init__(*args, **kwargs)\n",
    "        self.conv_block1 = nn.Sequential(\n",
    "            nn.Conv2d(3, 16, kernel_size=(3, 3), padding=\"same\"),\n",
    "            nn.ReLU(),\n",
    "            nn.MaxPool2d(kernel_size=(2, 2)),\n",
    "        )\n",
    "        self.conv_block2 = nn.Sequential(\n",
    "            nn.Conv2d(16, 32, kernel_size=(3, 3), padding=\"same\"),\n",
    "            nn.ReLU(),\n",
    "            nn.MaxPool2d(kernel_size=(2, 2)),\n",
    "        )\n",
    "        self.conv_block3 = nn.Sequential(\n",
    "            nn.Conv2d(32, 64, kernel_size=(3, 3), padding=\"same\"),\n",
    "            nn.ReLU(),\n",
    "            nn.MaxPool2d(kernel_size=(2, 2)),\n",
    "        )\n",
    "        self.conv_block4 = nn.Sequential(\n",
    "            nn.Conv2d(64, 128, kernel_size=(3, 3), padding=\"same\"),\n",
    "            nn.ReLU(),\n",
    "            nn.MaxPool2d(kernel_size=(2, 2)),\n",
    "        )\n",
    "        self.global_pool = nn.AdaptiveMaxPool2d((1, 1))\n",
    "        self.fully_connected = nn.Sequential(\n",
    "            nn.Linear(128, 64),\n",
    "            nn.ReLU(),\n",
    "            nn.Linear(64, 32),\n",
    "            nn.ReLU(),\n",
    "            nn.Linear(32, 2),\n",
    "            nn.Tanh(),\n",
    "        )\n",
    "\n",
    "    def forward(self, x: torch.Tensor):\n",
    "        x = self.conv_block1(x)\n",
    "        x = self.conv_block2(x)\n",
    "        x = self.conv_block3(x)\n",
    "        x = self.conv_block4(x)\n",
    "        x = self.global_pool(x)\n",
    "        x = x.flatten(1, -1)\n",
    "        x = self.fully_connected(x)\n",
    "        return x"
   ]
  },
  {
   "cell_type": "code",
   "execution_count": 76,
   "metadata": {},
   "outputs": [
    {
     "name": "stdout",
     "output_type": "stream",
     "text": [
      "DeepConv(\n",
      "  (conv_block1): Sequential(\n",
      "    (0): Conv2d(3, 16, kernel_size=(3, 3), stride=(1, 1), padding=same)\n",
      "    (1): ReLU()\n",
      "    (2): MaxPool2d(kernel_size=(2, 2), stride=(2, 2), padding=0, dilation=1, ceil_mode=False)\n",
      "  )\n",
      "  (conv_block2): Sequential(\n",
      "    (0): Conv2d(16, 32, kernel_size=(3, 3), stride=(1, 1), padding=same)\n",
      "    (1): ReLU()\n",
      "    (2): MaxPool2d(kernel_size=(2, 2), stride=(2, 2), padding=0, dilation=1, ceil_mode=False)\n",
      "  )\n",
      "  (conv_block3): Sequential(\n",
      "    (0): Conv2d(32, 64, kernel_size=(3, 3), stride=(1, 1), padding=same)\n",
      "    (1): ReLU()\n",
      "    (2): MaxPool2d(kernel_size=(2, 2), stride=(2, 2), padding=0, dilation=1, ceil_mode=False)\n",
      "  )\n",
      "  (conv_block4): Sequential(\n",
      "    (0): Conv2d(64, 128, kernel_size=(3, 3), stride=(1, 1), padding=same)\n",
      "    (1): ReLU()\n",
      "    (2): MaxPool2d(kernel_size=(2, 2), stride=(2, 2), padding=0, dilation=1, ceil_mode=False)\n",
      "  )\n",
      "  (global_pool): AdaptiveMaxPool2d(output_size=(1, 1))\n",
      "  (fully_connected): Sequential(\n",
      "    (0): Linear(in_features=128, out_features=64, bias=True)\n",
      "    (1): ReLU()\n",
      "    (2): Linear(in_features=64, out_features=32, bias=True)\n",
      "    (3): ReLU()\n",
      "    (4): Linear(in_features=32, out_features=2, bias=True)\n",
      "    (5): Tanh()\n",
      "  )\n",
      ")\n",
      "Total number of parameters = 107842\n"
     ]
    }
   ],
   "source": [
    "deep_conv_model = DeepConv()\n",
    "optimizer = torch.optim.Adam(deep_conv_model.parameters())\n",
    "loss = nn.MSELoss()\n",
    "print(deep_conv_model)\n",
    "print(f\"Total number of parameters = {sum(p.numel() for p in deep_conv_model.parameters())}\")"
   ]
  },
  {
   "cell_type": "code",
   "execution_count": 77,
   "metadata": {},
   "outputs": [
    {
     "name": "stderr",
     "output_type": "stream",
     "text": [
      "  0%|          | 0/83 [00:00<?, ?it/s]"
     ]
    },
    {
     "name": "stderr",
     "output_type": "stream",
     "text": [
      "100%|██████████| 83/83 [00:10<00:00,  8.23it/s]\n",
      "100%|██████████| 18/18 [00:01<00:00, 17.97it/s]\n"
     ]
    },
    {
     "name": "stdout",
     "output_type": "stream",
     "text": [
      "Epoch 1 \t\t Training Loss: 0.2544776483113507 \t\t Validation Loss: 0.7935241328345405\n",
      "Validation Loss Decreased(inf--->14.283434) \t Saving The Model\n"
     ]
    },
    {
     "name": "stderr",
     "output_type": "stream",
     "text": [
      "100%|██████████| 83/83 [00:10<00:00,  8.30it/s]\n",
      "100%|██████████| 18/18 [00:00<00:00, 20.12it/s]\n"
     ]
    },
    {
     "name": "stdout",
     "output_type": "stream",
     "text": [
      "Epoch 2 \t\t Training Loss: 0.23429318185312203 \t\t Validation Loss: 0.7872060851918327\n",
      "Validation Loss Decreased(14.283434--->14.169710) \t Saving The Model\n"
     ]
    },
    {
     "name": "stderr",
     "output_type": "stream",
     "text": [
      "100%|██████████| 83/83 [00:09<00:00,  8.36it/s]\n",
      "100%|██████████| 18/18 [00:00<00:00, 20.78it/s]\n"
     ]
    },
    {
     "name": "stdout",
     "output_type": "stream",
     "text": [
      "Epoch 3 \t\t Training Loss: 0.23223830364554762 \t\t Validation Loss: 0.7849670996268591\n",
      "Validation Loss Decreased(14.169710--->14.129408) \t Saving The Model\n"
     ]
    },
    {
     "name": "stderr",
     "output_type": "stream",
     "text": [
      "100%|██████████| 83/83 [00:09<00:00,  8.39it/s]\n",
      "100%|██████████| 18/18 [00:00<00:00, 20.59it/s]\n"
     ]
    },
    {
     "name": "stdout",
     "output_type": "stream",
     "text": [
      "Epoch 4 \t\t Training Loss: 0.23403562659240632 \t\t Validation Loss: 0.7928133656581243\n"
     ]
    },
    {
     "name": "stderr",
     "output_type": "stream",
     "text": [
      "100%|██████████| 83/83 [00:10<00:00,  8.03it/s]\n",
      "100%|██████████| 18/18 [00:00<00:00, 19.79it/s]\n"
     ]
    },
    {
     "name": "stdout",
     "output_type": "stream",
     "text": [
      "Epoch 5 \t\t Training Loss: 0.2326428954859814 \t\t Validation Loss: 0.7981904033157561\n"
     ]
    },
    {
     "name": "stderr",
     "output_type": "stream",
     "text": [
      "100%|██████████| 83/83 [00:10<00:00,  8.11it/s]\n",
      "100%|██████████| 18/18 [00:01<00:00, 10.76it/s]\n"
     ]
    },
    {
     "name": "stdout",
     "output_type": "stream",
     "text": [
      "Epoch 6 \t\t Training Loss: 0.2314891138349671 \t\t Validation Loss: 0.7895946717924542\n"
     ]
    },
    {
     "name": "stderr",
     "output_type": "stream",
     "text": [
      "100%|██████████| 83/83 [00:10<00:00,  8.08it/s]\n",
      "100%|██████████| 18/18 [00:00<00:00, 19.45it/s]\n"
     ]
    },
    {
     "name": "stdout",
     "output_type": "stream",
     "text": [
      "Epoch 7 \t\t Training Loss: 0.2305691911872611 \t\t Validation Loss: 0.7932826942867703\n"
     ]
    },
    {
     "name": "stderr",
     "output_type": "stream",
     "text": [
      "100%|██████████| 83/83 [00:11<00:00,  7.27it/s]\n",
      "100%|██████████| 18/18 [00:00<00:00, 20.00it/s]\n"
     ]
    },
    {
     "name": "stdout",
     "output_type": "stream",
     "text": [
      "Epoch 8 \t\t Training Loss: 0.23008505066475235 \t\t Validation Loss: 0.7981377508905199\n"
     ]
    },
    {
     "name": "stderr",
     "output_type": "stream",
     "text": [
      "100%|██████████| 83/83 [00:09<00:00,  8.35it/s]\n",
      "100%|██████████| 18/18 [00:00<00:00, 20.85it/s]\n"
     ]
    },
    {
     "name": "stdout",
     "output_type": "stream",
     "text": [
      "Epoch 9 \t\t Training Loss: 0.2302438024296818 \t\t Validation Loss: 0.8033758964803484\n"
     ]
    },
    {
     "name": "stderr",
     "output_type": "stream",
     "text": [
      "100%|██████████| 83/83 [00:09<00:00,  8.37it/s]\n",
      "100%|██████████| 18/18 [00:00<00:00, 19.80it/s]\n"
     ]
    },
    {
     "name": "stdout",
     "output_type": "stream",
     "text": [
      "Epoch 10 \t\t Training Loss: 0.23076053286891385 \t\t Validation Loss: 0.7834568106465869\n",
      "Validation Loss Decreased(14.129408--->14.102223) \t Saving The Model\n"
     ]
    },
    {
     "name": "stderr",
     "output_type": "stream",
     "text": [
      "100%|██████████| 83/83 [00:10<00:00,  8.06it/s]\n",
      "100%|██████████| 18/18 [00:00<00:00, 20.76it/s]\n"
     ]
    },
    {
     "name": "stdout",
     "output_type": "stream",
     "text": [
      "Epoch 11 \t\t Training Loss: 0.2284934518926115 \t\t Validation Loss: 0.8140387833118439\n"
     ]
    },
    {
     "name": "stderr",
     "output_type": "stream",
     "text": [
      "100%|██████████| 83/83 [00:10<00:00,  8.24it/s]\n",
      "100%|██████████| 18/18 [00:00<00:00, 20.91it/s]\n"
     ]
    },
    {
     "name": "stdout",
     "output_type": "stream",
     "text": [
      "Epoch 12 \t\t Training Loss: 0.22887827491903878 \t\t Validation Loss: 0.7899254328674741\n"
     ]
    },
    {
     "name": "stderr",
     "output_type": "stream",
     "text": [
      "100%|██████████| 83/83 [00:09<00:00,  8.57it/s]\n",
      "100%|██████████| 18/18 [00:00<00:00, 19.79it/s]\n"
     ]
    },
    {
     "name": "stdout",
     "output_type": "stream",
     "text": [
      "Epoch 13 \t\t Training Loss: 0.2276418966701232 \t\t Validation Loss: 0.7812021672725677\n",
      "Validation Loss Decreased(14.102223--->14.061639) \t Saving The Model\n"
     ]
    },
    {
     "name": "stderr",
     "output_type": "stream",
     "text": [
      "100%|██████████| 83/83 [00:10<00:00,  8.21it/s]\n",
      "100%|██████████| 18/18 [00:00<00:00, 20.02it/s]\n"
     ]
    },
    {
     "name": "stdout",
     "output_type": "stream",
     "text": [
      "Epoch 14 \t\t Training Loss: 0.22430937351232552 \t\t Validation Loss: 0.7772710025310516\n",
      "Validation Loss Decreased(14.061639--->13.990878) \t Saving The Model\n"
     ]
    },
    {
     "name": "stderr",
     "output_type": "stream",
     "text": [
      "100%|██████████| 83/83 [00:09<00:00,  8.49it/s]\n",
      "100%|██████████| 18/18 [00:01<00:00, 17.92it/s]"
     ]
    },
    {
     "name": "stdout",
     "output_type": "stream",
     "text": [
      "Epoch 15 \t\t Training Loss: 0.22578583998852467 \t\t Validation Loss: 0.7816792031129202\n"
     ]
    },
    {
     "name": "stderr",
     "output_type": "stream",
     "text": [
      "\n"
     ]
    }
   ],
   "source": [
    "train_model(\n",
    "    deep_conv_model,\n",
    "    epochs=15,\n",
    "    trainloader=train_dataloader,\n",
    "    validloader=val_dataloader,\n",
    "    optimizer=optimizer,\n",
    "    loss_func=loss,\n",
    "    model_save_path=f'{MODELS_DIR}/Model2.pth',\n",
    "    force_cuda=True\n",
    ")"
   ]
  },
  {
   "cell_type": "code",
   "execution_count": 22,
   "metadata": {},
   "outputs": [
    {
     "name": "stdout",
     "output_type": "stream",
     "text": [
      "Test Loss: 0.1027\n"
     ]
    }
   ],
   "source": [
    "deep_conv_model.load_state_dict(torch.load('Model2.pth'))\n",
    "\n",
    "avg_loss = evaluate_model(deep_conv_model, test_dataloader, nn.MSELoss())\n",
    "print(f'Test Loss: {avg_loss:.4f}')"
   ]
  },
  {
   "cell_type": "markdown",
   "metadata": {},
   "source": [
    "## Model 3: Resnet alike"
   ]
  },
  {
   "cell_type": "code",
   "execution_count": 8,
   "metadata": {},
   "outputs": [],
   "source": [
    "class ResidualBlock(nn.Module):\n",
    "    def __init__(self, in_channels, out_channels):\n",
    "        super(ResidualBlock, self).__init__()\n",
    "        self.conv1 = nn.Conv2d(in_channels, out_channels, kernel_size=3, padding=1)\n",
    "        self.bn1 = nn.BatchNorm2d(out_channels)\n",
    "        self.relu = nn.ReLU(inplace=True)\n",
    "        self.conv2 = nn.Conv2d(out_channels, out_channels, kernel_size=3, padding=1)\n",
    "        self.bn2 = nn.BatchNorm2d(out_channels)\n",
    "        self.skip = nn.Conv2d(in_channels, out_channels, kernel_size=1) if in_channels != out_channels else None\n",
    "\n",
    "    def forward(self, x):\n",
    "        identity = x\n",
    "        out = self.conv1(x)\n",
    "        out = self.bn1(out)\n",
    "        out = self.relu(out)\n",
    "        out = self.conv2(out)\n",
    "        out = self.bn2(out)\n",
    "\n",
    "        if self.skip:\n",
    "            identity = self.skip(identity)\n",
    "\n",
    "        out += identity\n",
    "        out = self.relu(out)\n",
    "        return out\n",
    "\n",
    "class ResNetLike(nn.Module):\n",
    "    def __init__(self, *args, **kwargs) -> None:\n",
    "        super().__init__(*args, **kwargs)\n",
    "        self.conv_block1 = nn.Sequential(\n",
    "            nn.Conv2d(3, 16, kernel_size=(3, 3), padding=\"same\"),\n",
    "            nn.ReLU(),\n",
    "            nn.MaxPool2d(kernel_size=(2, 2)),\n",
    "        )\n",
    "        self.res_block1 = ResidualBlock(16, 32)\n",
    "        self.res_block2 = ResidualBlock(32, 64)\n",
    "        self.res_block3 = ResidualBlock(64, 128)\n",
    "        self.global_pool = nn.AdaptiveMaxPool2d((1, 1))\n",
    "        self.fully_connected = nn.Sequential(\n",
    "            nn.Linear(128, 64),\n",
    "            nn.ReLU(),\n",
    "            nn.Linear(64, 32),\n",
    "            nn.ReLU(),\n",
    "            nn.Linear(32, 2),\n",
    "            nn.Tanh(),\n",
    "        )\n",
    "\n",
    "    def forward(self, x: torch.Tensor):\n",
    "        x = self.conv_block1(x)\n",
    "        x = self.res_block1(x)\n",
    "        x = self.res_block2(x)\n",
    "        x = self.res_block3(x)\n",
    "        x = self.global_pool(x)\n",
    "        x = x.flatten(1, -1)\n",
    "        x = self.fully_connected(x)\n",
    "        return x"
   ]
  },
  {
   "cell_type": "code",
   "execution_count": 24,
   "metadata": {},
   "outputs": [
    {
     "name": "stdout",
     "output_type": "stream",
     "text": [
      "ResNetLike(\n",
      "  (conv_block1): Sequential(\n",
      "    (0): Conv2d(3, 16, kernel_size=(3, 3), stride=(1, 1), padding=same)\n",
      "    (1): ReLU()\n",
      "    (2): MaxPool2d(kernel_size=(2, 2), stride=(2, 2), padding=0, dilation=1, ceil_mode=False)\n",
      "  )\n",
      "  (res_block1): ResidualBlock(\n",
      "    (conv1): Conv2d(16, 32, kernel_size=(3, 3), stride=(1, 1), padding=(1, 1))\n",
      "    (bn1): BatchNorm2d(32, eps=1e-05, momentum=0.1, affine=True, track_running_stats=True)\n",
      "    (relu): ReLU(inplace=True)\n",
      "    (conv2): Conv2d(32, 32, kernel_size=(3, 3), stride=(1, 1), padding=(1, 1))\n",
      "    (bn2): BatchNorm2d(32, eps=1e-05, momentum=0.1, affine=True, track_running_stats=True)\n",
      "    (skip): Conv2d(16, 32, kernel_size=(1, 1), stride=(1, 1))\n",
      "  )\n",
      "  (res_block2): ResidualBlock(\n",
      "    (conv1): Conv2d(32, 64, kernel_size=(3, 3), stride=(1, 1), padding=(1, 1))\n",
      "    (bn1): BatchNorm2d(64, eps=1e-05, momentum=0.1, affine=True, track_running_stats=True)\n",
      "    (relu): ReLU(inplace=True)\n",
      "    (conv2): Conv2d(64, 64, kernel_size=(3, 3), stride=(1, 1), padding=(1, 1))\n",
      "    (bn2): BatchNorm2d(64, eps=1e-05, momentum=0.1, affine=True, track_running_stats=True)\n",
      "    (skip): Conv2d(32, 64, kernel_size=(1, 1), stride=(1, 1))\n",
      "  )\n",
      "  (res_block3): ResidualBlock(\n",
      "    (conv1): Conv2d(64, 128, kernel_size=(3, 3), stride=(1, 1), padding=(1, 1))\n",
      "    (bn1): BatchNorm2d(128, eps=1e-05, momentum=0.1, affine=True, track_running_stats=True)\n",
      "    (relu): ReLU(inplace=True)\n",
      "    (conv2): Conv2d(128, 128, kernel_size=(3, 3), stride=(1, 1), padding=(1, 1))\n",
      "    (bn2): BatchNorm2d(128, eps=1e-05, momentum=0.1, affine=True, track_running_stats=True)\n",
      "    (skip): Conv2d(64, 128, kernel_size=(1, 1), stride=(1, 1))\n",
      "  )\n",
      "  (global_pool): AdaptiveMaxPool2d(output_size=(1, 1))\n",
      "  (fully_connected): Sequential(\n",
      "    (0): Linear(in_features=128, out_features=64, bias=True)\n",
      "    (1): ReLU()\n",
      "    (2): Linear(in_features=64, out_features=32, bias=True)\n",
      "    (3): ReLU()\n",
      "    (4): Linear(in_features=32, out_features=2, bias=True)\n",
      "    (5): Tanh()\n",
      "  )\n",
      ")\n",
      "Total number of parameters = 313474\n"
     ]
    }
   ],
   "source": [
    "resnetlike_model = ResNetLike()\n",
    "optimizer = torch.optim.Adam(resnetlike_model.parameters())\n",
    "loss = nn.MSELoss()\n",
    "print(resnetlike_model)\n",
    "print(f\"Total number of parameters = {sum(p.numel() for p in resnetlike_model.parameters())}\")"
   ]
  },
  {
   "cell_type": "code",
   "execution_count": 25,
   "metadata": {},
   "outputs": [
    {
     "name": "stderr",
     "output_type": "stream",
     "text": [
      "100%|██████████| 83/83 [00:29<00:00,  2.81it/s]\n",
      "100%|██████████| 18/18 [00:03<00:00,  5.55it/s]\n"
     ]
    },
    {
     "name": "stdout",
     "output_type": "stream",
     "text": [
      "Epoch 1 \t\t Training Loss: 0.24507014686802783 \t\t Validation Loss: 0.6421665830744637\n",
      "Validation Loss Decreased(inf--->11.558998) \t Saving The Model\n"
     ]
    },
    {
     "name": "stderr",
     "output_type": "stream",
     "text": [
      "100%|██████████| 83/83 [00:29<00:00,  2.82it/s]\n",
      "100%|██████████| 18/18 [00:02<00:00,  6.52it/s]\n"
     ]
    },
    {
     "name": "stdout",
     "output_type": "stream",
     "text": [
      "Epoch 2 \t\t Training Loss: 0.19646584942757364 \t\t Validation Loss: 0.4473227138320605\n",
      "Validation Loss Decreased(11.558998--->8.051809) \t Saving The Model\n"
     ]
    },
    {
     "name": "stderr",
     "output_type": "stream",
     "text": [
      "100%|██████████| 83/83 [00:29<00:00,  2.83it/s]\n",
      "100%|██████████| 18/18 [00:02<00:00,  6.59it/s]\n"
     ]
    },
    {
     "name": "stdout",
     "output_type": "stream",
     "text": [
      "Epoch 3 \t\t Training Loss: 0.1350345976920013 \t\t Validation Loss: 0.34822115467654335\n",
      "Validation Loss Decreased(8.051809--->6.267981) \t Saving The Model\n"
     ]
    },
    {
     "name": "stderr",
     "output_type": "stream",
     "text": [
      "100%|██████████| 83/83 [00:28<00:00,  2.91it/s]\n",
      "100%|██████████| 18/18 [00:02<00:00,  6.71it/s]\n"
     ]
    },
    {
     "name": "stdout",
     "output_type": "stream",
     "text": [
      "Epoch 4 \t\t Training Loss: 0.11377634099089956 \t\t Validation Loss: 0.34038324488533866\n",
      "Validation Loss Decreased(6.267981--->6.126898) \t Saving The Model\n"
     ]
    },
    {
     "name": "stderr",
     "output_type": "stream",
     "text": [
      "100%|██████████| 83/83 [00:28<00:00,  2.91it/s]\n",
      "100%|██████████| 18/18 [00:02<00:00,  6.64it/s]\n"
     ]
    },
    {
     "name": "stdout",
     "output_type": "stream",
     "text": [
      "Epoch 5 \t\t Training Loss: 0.10633038065160613 \t\t Validation Loss: 0.2813343409862783\n",
      "Validation Loss Decreased(6.126898--->5.064018) \t Saving The Model\n"
     ]
    },
    {
     "name": "stderr",
     "output_type": "stream",
     "text": [
      "100%|██████████| 83/83 [00:28<00:00,  2.90it/s]\n",
      "100%|██████████| 18/18 [00:02<00:00,  6.60it/s]\n"
     ]
    },
    {
     "name": "stdout",
     "output_type": "stream",
     "text": [
      "Epoch 6 \t\t Training Loss: 0.10066938687519855 \t\t Validation Loss: 0.2705252605179946\n",
      "Validation Loss Decreased(5.064018--->4.869455) \t Saving The Model\n"
     ]
    },
    {
     "name": "stderr",
     "output_type": "stream",
     "text": [
      "100%|██████████| 83/83 [00:29<00:00,  2.82it/s]\n",
      "100%|██████████| 18/18 [00:02<00:00,  6.59it/s]\n"
     ]
    },
    {
     "name": "stdout",
     "output_type": "stream",
     "text": [
      "Epoch 7 \t\t Training Loss: 0.09636040373020861 \t\t Validation Loss: 0.3701676022675302\n"
     ]
    },
    {
     "name": "stderr",
     "output_type": "stream",
     "text": [
      "100%|██████████| 83/83 [00:28<00:00,  2.91it/s]\n",
      "100%|██████████| 18/18 [00:02<00:00,  6.65it/s]\n"
     ]
    },
    {
     "name": "stdout",
     "output_type": "stream",
     "text": [
      "Epoch 8 \t\t Training Loss: 0.08751585859670696 \t\t Validation Loss: 0.35116397092739743\n"
     ]
    },
    {
     "name": "stderr",
     "output_type": "stream",
     "text": [
      "100%|██████████| 83/83 [00:28<00:00,  2.91it/s]\n",
      "100%|██████████| 18/18 [00:02<00:00,  6.67it/s]\n"
     ]
    },
    {
     "name": "stdout",
     "output_type": "stream",
     "text": [
      "Epoch 9 \t\t Training Loss: 0.08129758921911917 \t\t Validation Loss: 0.4232813244064649\n"
     ]
    },
    {
     "name": "stderr",
     "output_type": "stream",
     "text": [
      "100%|██████████| 83/83 [00:28<00:00,  2.91it/s]\n",
      "100%|██████████| 18/18 [00:02<00:00,  6.61it/s]\n"
     ]
    },
    {
     "name": "stdout",
     "output_type": "stream",
     "text": [
      "Epoch 10 \t\t Training Loss: 0.07589217854371991 \t\t Validation Loss: 0.5590106364753511\n"
     ]
    },
    {
     "name": "stderr",
     "output_type": "stream",
     "text": [
      "100%|██████████| 83/83 [00:28<00:00,  2.91it/s]\n",
      "100%|██████████| 18/18 [00:02<00:00,  6.66it/s]\n"
     ]
    },
    {
     "name": "stdout",
     "output_type": "stream",
     "text": [
      "Epoch 11 \t\t Training Loss: 0.08172755661499069 \t\t Validation Loss: 0.32597382159696686\n"
     ]
    },
    {
     "name": "stderr",
     "output_type": "stream",
     "text": [
      "100%|██████████| 83/83 [00:28<00:00,  2.91it/s]\n",
      "100%|██████████| 18/18 [00:02<00:00,  6.63it/s]\n"
     ]
    },
    {
     "name": "stdout",
     "output_type": "stream",
     "text": [
      "Epoch 12 \t\t Training Loss: 0.07802554668791323 \t\t Validation Loss: 0.3521321184105343\n"
     ]
    },
    {
     "name": "stderr",
     "output_type": "stream",
     "text": [
      "100%|██████████| 83/83 [00:28<00:00,  2.91it/s]\n",
      "100%|██████████| 18/18 [00:02<00:00,  6.66it/s]\n"
     ]
    },
    {
     "name": "stdout",
     "output_type": "stream",
     "text": [
      "Epoch 13 \t\t Training Loss: 0.06590507709118257 \t\t Validation Loss: 0.30421346260441673\n"
     ]
    },
    {
     "name": "stderr",
     "output_type": "stream",
     "text": [
      "100%|██████████| 83/83 [00:28<00:00,  2.91it/s]\n",
      "100%|██████████| 18/18 [00:02<00:00,  6.51it/s]\n"
     ]
    },
    {
     "name": "stdout",
     "output_type": "stream",
     "text": [
      "Epoch 14 \t\t Training Loss: 0.061720463234078454 \t\t Validation Loss: 0.2628064677119255\n",
      "Validation Loss Decreased(4.869455--->4.730516) \t Saving The Model\n"
     ]
    },
    {
     "name": "stderr",
     "output_type": "stream",
     "text": [
      "100%|██████████| 83/83 [00:28<00:00,  2.91it/s]\n",
      "100%|██████████| 18/18 [00:02<00:00,  6.62it/s]"
     ]
    },
    {
     "name": "stdout",
     "output_type": "stream",
     "text": [
      "Epoch 15 \t\t Training Loss: 0.07037991141698446 \t\t Validation Loss: 0.26193652633163667\n",
      "Validation Loss Decreased(4.730516--->4.714857) \t Saving The Model\n"
     ]
    },
    {
     "name": "stderr",
     "output_type": "stream",
     "text": [
      "\n"
     ]
    }
   ],
   "source": [
    "train_model(\n",
    "    resnetlike_model,\n",
    "    epochs=15,\n",
    "    trainloader=train_dataloader,\n",
    "    validloader=val_dataloader,\n",
    "    optimizer=optimizer,\n",
    "    loss_func=loss,\n",
    "    model_save_path=f'{MODELS_DIR}/Model3.pth',\n",
    "    force_cuda=True\n",
    ")"
   ]
  },
  {
   "cell_type": "code",
   "execution_count": 26,
   "metadata": {},
   "outputs": [
    {
     "name": "stdout",
     "output_type": "stream",
     "text": [
      "Test Loss: 0.1143\n"
     ]
    }
   ],
   "source": [
    "resnetlike_model.load_state_dict(torch.load('Model3.pth'))\n",
    "\n",
    "avg_loss = evaluate_model(resnetlike_model, test_dataloader, nn.MSELoss())\n",
    "print(f'Test Loss: {avg_loss:.4f}')"
   ]
  },
  {
   "cell_type": "markdown",
   "metadata": {},
   "source": []
  },
  {
   "cell_type": "code",
   "execution_count": 17,
   "metadata": {},
   "outputs": [],
   "source": [
    "from torchvision.models import ResNet18_Weights\n",
    "\n",
    "class ResnetRegressor(nn.Module):\n",
    "    def __init__(self, weights: ResNet18_Weights):\n",
    "        super().__init__()\n",
    "        self.resnet = models.resnet18(weights=weights)\n",
    "        num_ftrs = self.resnet.fc.in_features\n",
    "        self.resnet.fc = nn.Linear(num_ftrs, 2)\n",
    "        self.tanh = nn.Tanh()\n",
    "\n",
    "    def forward(self, x):\n",
    "        x = self.resnet(x)\n",
    "        x = self.tanh(x)\n",
    "        return x\n"
   ]
  },
  {
   "cell_type": "code",
   "execution_count": 18,
   "metadata": {},
   "outputs": [
    {
     "name": "stdout",
     "output_type": "stream",
     "text": [
      "ResnetRegressor(\n",
      "  (resnet): ResNet(\n",
      "    (conv1): Conv2d(3, 64, kernel_size=(7, 7), stride=(2, 2), padding=(3, 3), bias=False)\n",
      "    (bn1): BatchNorm2d(64, eps=1e-05, momentum=0.1, affine=True, track_running_stats=True)\n",
      "    (relu): ReLU(inplace=True)\n",
      "    (maxpool): MaxPool2d(kernel_size=3, stride=2, padding=1, dilation=1, ceil_mode=False)\n",
      "    (layer1): Sequential(\n",
      "      (0): BasicBlock(\n",
      "        (conv1): Conv2d(64, 64, kernel_size=(3, 3), stride=(1, 1), padding=(1, 1), bias=False)\n",
      "        (bn1): BatchNorm2d(64, eps=1e-05, momentum=0.1, affine=True, track_running_stats=True)\n",
      "        (relu): ReLU(inplace=True)\n",
      "        (conv2): Conv2d(64, 64, kernel_size=(3, 3), stride=(1, 1), padding=(1, 1), bias=False)\n",
      "        (bn2): BatchNorm2d(64, eps=1e-05, momentum=0.1, affine=True, track_running_stats=True)\n",
      "      )\n",
      "      (1): BasicBlock(\n",
      "        (conv1): Conv2d(64, 64, kernel_size=(3, 3), stride=(1, 1), padding=(1, 1), bias=False)\n",
      "        (bn1): BatchNorm2d(64, eps=1e-05, momentum=0.1, affine=True, track_running_stats=True)\n",
      "        (relu): ReLU(inplace=True)\n",
      "        (conv2): Conv2d(64, 64, kernel_size=(3, 3), stride=(1, 1), padding=(1, 1), bias=False)\n",
      "        (bn2): BatchNorm2d(64, eps=1e-05, momentum=0.1, affine=True, track_running_stats=True)\n",
      "      )\n",
      "    )\n",
      "    (layer2): Sequential(\n",
      "      (0): BasicBlock(\n",
      "        (conv1): Conv2d(64, 128, kernel_size=(3, 3), stride=(2, 2), padding=(1, 1), bias=False)\n",
      "        (bn1): BatchNorm2d(128, eps=1e-05, momentum=0.1, affine=True, track_running_stats=True)\n",
      "        (relu): ReLU(inplace=True)\n",
      "        (conv2): Conv2d(128, 128, kernel_size=(3, 3), stride=(1, 1), padding=(1, 1), bias=False)\n",
      "        (bn2): BatchNorm2d(128, eps=1e-05, momentum=0.1, affine=True, track_running_stats=True)\n",
      "        (downsample): Sequential(\n",
      "          (0): Conv2d(64, 128, kernel_size=(1, 1), stride=(2, 2), bias=False)\n",
      "          (1): BatchNorm2d(128, eps=1e-05, momentum=0.1, affine=True, track_running_stats=True)\n",
      "        )\n",
      "      )\n",
      "      (1): BasicBlock(\n",
      "        (conv1): Conv2d(128, 128, kernel_size=(3, 3), stride=(1, 1), padding=(1, 1), bias=False)\n",
      "        (bn1): BatchNorm2d(128, eps=1e-05, momentum=0.1, affine=True, track_running_stats=True)\n",
      "        (relu): ReLU(inplace=True)\n",
      "        (conv2): Conv2d(128, 128, kernel_size=(3, 3), stride=(1, 1), padding=(1, 1), bias=False)\n",
      "        (bn2): BatchNorm2d(128, eps=1e-05, momentum=0.1, affine=True, track_running_stats=True)\n",
      "      )\n",
      "    )\n",
      "    (layer3): Sequential(\n",
      "      (0): BasicBlock(\n",
      "        (conv1): Conv2d(128, 256, kernel_size=(3, 3), stride=(2, 2), padding=(1, 1), bias=False)\n",
      "        (bn1): BatchNorm2d(256, eps=1e-05, momentum=0.1, affine=True, track_running_stats=True)\n",
      "        (relu): ReLU(inplace=True)\n",
      "        (conv2): Conv2d(256, 256, kernel_size=(3, 3), stride=(1, 1), padding=(1, 1), bias=False)\n",
      "        (bn2): BatchNorm2d(256, eps=1e-05, momentum=0.1, affine=True, track_running_stats=True)\n",
      "        (downsample): Sequential(\n",
      "          (0): Conv2d(128, 256, kernel_size=(1, 1), stride=(2, 2), bias=False)\n",
      "          (1): BatchNorm2d(256, eps=1e-05, momentum=0.1, affine=True, track_running_stats=True)\n",
      "        )\n",
      "      )\n",
      "      (1): BasicBlock(\n",
      "        (conv1): Conv2d(256, 256, kernel_size=(3, 3), stride=(1, 1), padding=(1, 1), bias=False)\n",
      "        (bn1): BatchNorm2d(256, eps=1e-05, momentum=0.1, affine=True, track_running_stats=True)\n",
      "        (relu): ReLU(inplace=True)\n",
      "        (conv2): Conv2d(256, 256, kernel_size=(3, 3), stride=(1, 1), padding=(1, 1), bias=False)\n",
      "        (bn2): BatchNorm2d(256, eps=1e-05, momentum=0.1, affine=True, track_running_stats=True)\n",
      "      )\n",
      "    )\n",
      "    (layer4): Sequential(\n",
      "      (0): BasicBlock(\n",
      "        (conv1): Conv2d(256, 512, kernel_size=(3, 3), stride=(2, 2), padding=(1, 1), bias=False)\n",
      "        (bn1): BatchNorm2d(512, eps=1e-05, momentum=0.1, affine=True, track_running_stats=True)\n",
      "        (relu): ReLU(inplace=True)\n",
      "        (conv2): Conv2d(512, 512, kernel_size=(3, 3), stride=(1, 1), padding=(1, 1), bias=False)\n",
      "        (bn2): BatchNorm2d(512, eps=1e-05, momentum=0.1, affine=True, track_running_stats=True)\n",
      "        (downsample): Sequential(\n",
      "          (0): Conv2d(256, 512, kernel_size=(1, 1), stride=(2, 2), bias=False)\n",
      "          (1): BatchNorm2d(512, eps=1e-05, momentum=0.1, affine=True, track_running_stats=True)\n",
      "        )\n",
      "      )\n",
      "      (1): BasicBlock(\n",
      "        (conv1): Conv2d(512, 512, kernel_size=(3, 3), stride=(1, 1), padding=(1, 1), bias=False)\n",
      "        (bn1): BatchNorm2d(512, eps=1e-05, momentum=0.1, affine=True, track_running_stats=True)\n",
      "        (relu): ReLU(inplace=True)\n",
      "        (conv2): Conv2d(512, 512, kernel_size=(3, 3), stride=(1, 1), padding=(1, 1), bias=False)\n",
      "        (bn2): BatchNorm2d(512, eps=1e-05, momentum=0.1, affine=True, track_running_stats=True)\n",
      "      )\n",
      "    )\n",
      "    (avgpool): AdaptiveAvgPool2d(output_size=(1, 1))\n",
      "    (fc): Linear(in_features=512, out_features=2, bias=True)\n",
      "  )\n",
      "  (tanh): Tanh()\n",
      ")\n",
      "Total number of parameters = 11177538\n"
     ]
    }
   ],
   "source": [
    "resnet_reg_model = ResnetRegressor(ResNet18_Weights.DEFAULT)\n",
    "optimizer = torch.optim.Adam(resnet_reg_model.parameters())\n",
    "loss = nn.MSELoss()\n",
    "print(resnet_reg_model)\n",
    "print(f\"Total number of parameters = {sum(p.numel() for p in resnet_reg_model.parameters())}\")"
   ]
  },
  {
   "cell_type": "code",
   "execution_count": 22,
   "metadata": {},
   "outputs": [
    {
     "name": "stderr",
     "output_type": "stream",
     "text": [
      "100%|██████████| 83/83 [00:23<00:00,  3.51it/s]\n",
      "100%|██████████| 18/18 [00:01<00:00, 10.31it/s]\n"
     ]
    },
    {
     "name": "stdout",
     "output_type": "stream",
     "text": [
      "Epoch 1 \t\t Training Loss: 0.06085542584937739 \t\t Validation Loss: 0.25983594606320065\n",
      "Validation Loss Decreased(inf--->4.677047) \t Saving The Model\n"
     ]
    },
    {
     "name": "stderr",
     "output_type": "stream",
     "text": [
      "100%|██████████| 83/83 [00:22<00:00,  3.76it/s]\n",
      "100%|██████████| 18/18 [00:01<00:00, 10.17it/s]\n"
     ]
    },
    {
     "name": "stdout",
     "output_type": "stream",
     "text": [
      "Epoch 2 \t\t Training Loss: 0.05951782535896244 \t\t Validation Loss: 0.27454643737938667\n"
     ]
    },
    {
     "name": "stderr",
     "output_type": "stream",
     "text": [
      "100%|██████████| 83/83 [00:22<00:00,  3.75it/s]\n",
      "100%|██████████| 18/18 [00:01<00:00, 10.04it/s]\n"
     ]
    },
    {
     "name": "stdout",
     "output_type": "stream",
     "text": [
      "Epoch 3 \t\t Training Loss: 0.05608918594129114 \t\t Validation Loss: 0.2430200878944662\n",
      "Validation Loss Decreased(4.677047--->4.374362) \t Saving The Model\n"
     ]
    },
    {
     "name": "stderr",
     "output_type": "stream",
     "text": [
      "100%|██████████| 83/83 [00:22<00:00,  3.74it/s]\n",
      "100%|██████████| 18/18 [00:01<00:00, 10.05it/s]\n"
     ]
    },
    {
     "name": "stdout",
     "output_type": "stream",
     "text": [
      "Epoch 4 \t\t Training Loss: 0.05435696881578629 \t\t Validation Loss: 0.2977273166179657\n"
     ]
    },
    {
     "name": "stderr",
     "output_type": "stream",
     "text": [
      "100%|██████████| 83/83 [00:24<00:00,  3.37it/s]\n",
      "100%|██████████| 18/18 [00:02<00:00,  8.71it/s]\n"
     ]
    },
    {
     "name": "stdout",
     "output_type": "stream",
     "text": [
      "Epoch 5 \t\t Training Loss: 0.06088883133537798 \t\t Validation Loss: 0.27991069729129475\n"
     ]
    },
    {
     "name": "stderr",
     "output_type": "stream",
     "text": [
      "100%|██████████| 83/83 [00:22<00:00,  3.73it/s]\n",
      "100%|██████████| 18/18 [00:01<00:00,  9.83it/s]\n"
     ]
    },
    {
     "name": "stdout",
     "output_type": "stream",
     "text": [
      "Epoch 6 \t\t Training Loss: 0.05550725163375757 \t\t Validation Loss: 0.25704335959421265\n"
     ]
    },
    {
     "name": "stderr",
     "output_type": "stream",
     "text": [
      "100%|██████████| 83/83 [00:22<00:00,  3.75it/s]\n",
      "100%|██████████| 18/18 [00:01<00:00,  9.84it/s]\n"
     ]
    },
    {
     "name": "stdout",
     "output_type": "stream",
     "text": [
      "Epoch 7 \t\t Training Loss: 0.049830626988087795 \t\t Validation Loss: 0.27199046230978435\n"
     ]
    },
    {
     "name": "stderr",
     "output_type": "stream",
     "text": [
      "100%|██████████| 83/83 [00:24<00:00,  3.45it/s]\n",
      "100%|██████████| 18/18 [00:01<00:00,  9.18it/s]\n"
     ]
    },
    {
     "name": "stdout",
     "output_type": "stream",
     "text": [
      "Epoch 8 \t\t Training Loss: 0.0446197501192969 \t\t Validation Loss: 0.25973735459976727\n"
     ]
    },
    {
     "name": "stderr",
     "output_type": "stream",
     "text": [
      "100%|██████████| 83/83 [00:22<00:00,  3.69it/s]\n",
      "100%|██████████| 18/18 [00:01<00:00, 10.22it/s]\n"
     ]
    },
    {
     "name": "stdout",
     "output_type": "stream",
     "text": [
      "Epoch 9 \t\t Training Loss: 0.04280955313020442 \t\t Validation Loss: 0.25808649013439816\n"
     ]
    },
    {
     "name": "stderr",
     "output_type": "stream",
     "text": [
      "100%|██████████| 83/83 [00:22<00:00,  3.73it/s]\n",
      "100%|██████████| 18/18 [00:01<00:00, 10.16it/s]\n"
     ]
    },
    {
     "name": "stdout",
     "output_type": "stream",
     "text": [
      "Epoch 10 \t\t Training Loss: 0.040592330204973735 \t\t Validation Loss: 0.2560892676313718\n"
     ]
    },
    {
     "name": "stderr",
     "output_type": "stream",
     "text": [
      "100%|██████████| 83/83 [00:23<00:00,  3.55it/s]\n",
      "100%|██████████| 18/18 [00:01<00:00,  9.02it/s]\n"
     ]
    },
    {
     "name": "stdout",
     "output_type": "stream",
     "text": [
      "Epoch 11 \t\t Training Loss: 0.03544158923877291 \t\t Validation Loss: 0.27507811329431003\n"
     ]
    },
    {
     "name": "stderr",
     "output_type": "stream",
     "text": [
      "100%|██████████| 83/83 [00:24<00:00,  3.43it/s]\n",
      "100%|██████████| 18/18 [00:01<00:00,  9.41it/s]\n"
     ]
    },
    {
     "name": "stdout",
     "output_type": "stream",
     "text": [
      "Epoch 12 \t\t Training Loss: 0.03420901501618595 \t\t Validation Loss: 0.44014259427785873\n"
     ]
    },
    {
     "name": "stderr",
     "output_type": "stream",
     "text": [
      "100%|██████████| 83/83 [00:22<00:00,  3.68it/s]\n",
      "100%|██████████| 18/18 [00:02<00:00,  8.02it/s]\n"
     ]
    },
    {
     "name": "stdout",
     "output_type": "stream",
     "text": [
      "Epoch 13 \t\t Training Loss: 0.036814995659851885 \t\t Validation Loss: 0.24200125535329184\n",
      "Validation Loss Decreased(4.374362--->4.356023) \t Saving The Model\n"
     ]
    },
    {
     "name": "stderr",
     "output_type": "stream",
     "text": [
      "100%|██████████| 83/83 [00:22<00:00,  3.72it/s]\n",
      "100%|██████████| 18/18 [00:01<00:00, 10.20it/s]\n"
     ]
    },
    {
     "name": "stdout",
     "output_type": "stream",
     "text": [
      "Epoch 14 \t\t Training Loss: 0.029381167940256827 \t\t Validation Loss: 0.21053897713621458\n",
      "Validation Loss Decreased(4.356023--->3.789702) \t Saving The Model\n"
     ]
    },
    {
     "name": "stderr",
     "output_type": "stream",
     "text": [
      "100%|██████████| 83/83 [00:22<00:00,  3.76it/s]\n",
      "100%|██████████| 18/18 [00:01<00:00, 10.34it/s]\n"
     ]
    },
    {
     "name": "stdout",
     "output_type": "stream",
     "text": [
      "Epoch 15 \t\t Training Loss: 0.025647365465670466 \t\t Validation Loss: 0.264431147939629\n"
     ]
    },
    {
     "name": "stderr",
     "output_type": "stream",
     "text": [
      "100%|██████████| 83/83 [00:22<00:00,  3.73it/s]\n",
      "100%|██████████| 18/18 [00:01<00:00,  9.69it/s]\n"
     ]
    },
    {
     "name": "stdout",
     "output_type": "stream",
     "text": [
      "Epoch 16 \t\t Training Loss: 0.029777886929461754 \t\t Validation Loss: 0.31618959746427006\n"
     ]
    },
    {
     "name": "stderr",
     "output_type": "stream",
     "text": [
      "100%|██████████| 83/83 [00:23<00:00,  3.58it/s]\n",
      "100%|██████████| 18/18 [00:01<00:00,  9.50it/s]\n"
     ]
    },
    {
     "name": "stdout",
     "output_type": "stream",
     "text": [
      "Epoch 17 \t\t Training Loss: 0.02755273200840835 \t\t Validation Loss: 0.3257422401673264\n"
     ]
    },
    {
     "name": "stderr",
     "output_type": "stream",
     "text": [
      "100%|██████████| 83/83 [00:23<00:00,  3.56it/s]\n",
      "100%|██████████| 18/18 [00:01<00:00, 10.19it/s]\n"
     ]
    },
    {
     "name": "stdout",
     "output_type": "stream",
     "text": [
      "Epoch 18 \t\t Training Loss: 0.024119000477963184 \t\t Validation Loss: 0.21779253830512366\n"
     ]
    },
    {
     "name": "stderr",
     "output_type": "stream",
     "text": [
      "100%|██████████| 83/83 [00:22<00:00,  3.74it/s]\n",
      "100%|██████████| 18/18 [00:01<00:00, 10.09it/s]\n"
     ]
    },
    {
     "name": "stdout",
     "output_type": "stream",
     "text": [
      "Epoch 19 \t\t Training Loss: 0.028726238218775714 \t\t Validation Loss: 0.27808597435553867\n"
     ]
    },
    {
     "name": "stderr",
     "output_type": "stream",
     "text": [
      "100%|██████████| 83/83 [00:22<00:00,  3.75it/s]\n",
      "100%|██████████| 18/18 [00:01<00:00, 10.03it/s]\n"
     ]
    },
    {
     "name": "stdout",
     "output_type": "stream",
     "text": [
      "Epoch 20 \t\t Training Loss: 0.02911518168557121 \t\t Validation Loss: 0.28248267496625584\n"
     ]
    },
    {
     "name": "stderr",
     "output_type": "stream",
     "text": [
      "100%|██████████| 83/83 [00:23<00:00,  3.60it/s]\n",
      "100%|██████████| 18/18 [00:01<00:00,  9.58it/s]\n"
     ]
    },
    {
     "name": "stdout",
     "output_type": "stream",
     "text": [
      "Epoch 21 \t\t Training Loss: 0.029675318197493094 \t\t Validation Loss: 0.2849254351523187\n"
     ]
    },
    {
     "name": "stderr",
     "output_type": "stream",
     "text": [
      "100%|██████████| 83/83 [00:22<00:00,  3.63it/s]\n",
      "100%|██████████| 18/18 [00:01<00:00,  9.93it/s]\n"
     ]
    },
    {
     "name": "stdout",
     "output_type": "stream",
     "text": [
      "Epoch 22 \t\t Training Loss: 0.02687339008931654 \t\t Validation Loss: 0.2904561302728123\n"
     ]
    },
    {
     "name": "stderr",
     "output_type": "stream",
     "text": [
      "100%|██████████| 83/83 [00:22<00:00,  3.63it/s]\n",
      "100%|██████████| 18/18 [00:02<00:00,  6.97it/s]\n"
     ]
    },
    {
     "name": "stdout",
     "output_type": "stream",
     "text": [
      "Epoch 23 \t\t Training Loss: 0.02474249970639147 \t\t Validation Loss: 0.25942235274447334\n"
     ]
    },
    {
     "name": "stderr",
     "output_type": "stream",
     "text": [
      "100%|██████████| 83/83 [00:24<00:00,  3.35it/s]\n",
      "100%|██████████| 18/18 [00:01<00:00,  9.90it/s]\n"
     ]
    },
    {
     "name": "stdout",
     "output_type": "stream",
     "text": [
      "Epoch 24 \t\t Training Loss: 0.020616068527192236 \t\t Validation Loss: 0.2307578126589457\n"
     ]
    },
    {
     "name": "stderr",
     "output_type": "stream",
     "text": [
      "100%|██████████| 83/83 [00:25<00:00,  3.30it/s]\n",
      "100%|██████████| 18/18 [00:01<00:00,  9.87it/s]\n"
     ]
    },
    {
     "name": "stdout",
     "output_type": "stream",
     "text": [
      "Epoch 25 \t\t Training Loss: 0.018318550840738308 \t\t Validation Loss: 0.2721228032476372\n"
     ]
    },
    {
     "name": "stderr",
     "output_type": "stream",
     "text": [
      "100%|██████████| 83/83 [00:22<00:00,  3.70it/s]\n",
      "100%|██████████| 18/18 [00:01<00:00, 10.17it/s]\n"
     ]
    },
    {
     "name": "stdout",
     "output_type": "stream",
     "text": [
      "Epoch 26 \t\t Training Loss: 0.01782138998541667 \t\t Validation Loss: 0.2816018420788977\n"
     ]
    },
    {
     "name": "stderr",
     "output_type": "stream",
     "text": [
      "100%|██████████| 83/83 [00:22<00:00,  3.62it/s]\n",
      "100%|██████████| 18/18 [00:02<00:00,  8.97it/s]\n"
     ]
    },
    {
     "name": "stdout",
     "output_type": "stream",
     "text": [
      "Epoch 27 \t\t Training Loss: 0.015243871331057814 \t\t Validation Loss: 0.23380682617425919\n"
     ]
    },
    {
     "name": "stderr",
     "output_type": "stream",
     "text": [
      "100%|██████████| 83/83 [00:24<00:00,  3.34it/s]\n",
      "100%|██████████| 18/18 [00:02<00:00,  7.06it/s]\n"
     ]
    },
    {
     "name": "stdout",
     "output_type": "stream",
     "text": [
      "Epoch 28 \t\t Training Loss: 0.016466005458440406 \t\t Validation Loss: 0.25594260750545395\n"
     ]
    },
    {
     "name": "stderr",
     "output_type": "stream",
     "text": [
      "100%|██████████| 83/83 [00:26<00:00,  3.17it/s]\n",
      "100%|██████████| 18/18 [00:01<00:00,  9.18it/s]\n"
     ]
    },
    {
     "name": "stdout",
     "output_type": "stream",
     "text": [
      "Epoch 29 \t\t Training Loss: 0.021517419155283147 \t\t Validation Loss: 0.23492566992839178\n"
     ]
    },
    {
     "name": "stderr",
     "output_type": "stream",
     "text": [
      "100%|██████████| 83/83 [00:25<00:00,  3.31it/s]\n",
      "100%|██████████| 18/18 [00:02<00:00,  7.29it/s]"
     ]
    },
    {
     "name": "stdout",
     "output_type": "stream",
     "text": [
      "Epoch 30 \t\t Training Loss: 0.020254421047866344 \t\t Validation Loss: 0.2762567082213031\n"
     ]
    },
    {
     "name": "stderr",
     "output_type": "stream",
     "text": [
      "\n"
     ]
    }
   ],
   "source": [
    "train_model(\n",
    "    resnet_reg_model,\n",
    "    epochs=30,\n",
    "    trainloader=train_dataloader,\n",
    "    validloader=val_dataloader,\n",
    "    optimizer=optimizer,\n",
    "    loss_func=loss,\n",
    "    model_save_path=f'{MODELS_DIR}/Model_resnet_reg.pth',\n",
    "    force_cuda=True\n",
    ")"
   ]
  },
  {
   "cell_type": "code",
   "execution_count": 24,
   "metadata": {},
   "outputs": [
    {
     "name": "stdout",
     "output_type": "stream",
     "text": [
      "Test Loss: 0.0774\n"
     ]
    }
   ],
   "source": [
    "resnet_reg_model.load_state_dict(torch.load(f'{MODELS_DIR}/Model_resnet_reg.pth'))\n",
    "\n",
    "avg_loss = evaluate_model(resnet_reg_model, test_dataloader, nn.MSELoss())\n",
    "print(f'Test Loss: {avg_loss:.4f}')"
   ]
  },
  {
   "cell_type": "markdown",
   "metadata": {},
   "source": [
    "### Squeezenet"
   ]
  },
  {
   "cell_type": "code",
   "execution_count": null,
   "metadata": {},
   "outputs": [],
   "source": [
    "import torchvision.models as models\n",
    "import torchvision.transforms as transforms\n",
    "\n",
    "\n",
    "class CustomLoss(nn.Module):\n",
    "    def __init__(self):\n",
    "        super(CustomLoss, self).__init__()\n",
    "        self.weights = torch.Tensor([0.4, 1])\n",
    "\n",
    "    def forward(self, predictions, targets):\n",
    "        loss = torch.mean(self.weights * (predictions - targets) ** 2)\n",
    "        return loss\n",
    "\n",
    "\n",
    "# Needs those transforms: transforms.Normalize(mean=[0.485, 0.456, 0.406], std=[0.229, 0.224, 0.225])\n",
    "\n",
    "norm_to_01_range = lambda img: img / 255\n",
    "\n",
    "\n",
    "train_dataloader = DataLoader(\n",
    "    JetbotDataset(\n",
    "        df.iloc[data_indices[:train_end_index]],\n",
    "        photos[data_indices[:train_end_index]],\n",
    "        optional_transforms=train_optional_transforms,\n",
    "        required_transforms=[\n",
    "            transforms.Compose(\n",
    "                [\n",
    "                    norm_to_01_range,\n",
    "                    transforms.Normalize(\n",
    "                        mean=[0.485, 0.456, 0.406], std=[0.229, 0.224, 0.225]\n",
    "                    ),\n",
    "                ]\n",
    "            )\n",
    "        ],\n",
    "    ),\n",
    "    batch_size=batch_size,\n",
    ")\n",
    "\n",
    "val_dataloader = DataLoader(\n",
    "    JetbotDataset(\n",
    "        df.iloc[data_indices[train_end_index:val_end_index]],\n",
    "        photos[data_indices[train_end_index:val_end_index]],\n",
    "        required_transforms=[\n",
    "            transforms.Compose(\n",
    "                [\n",
    "                    norm_to_01_range,\n",
    "                    transforms.Normalize(\n",
    "                        mean=[0.485, 0.456, 0.406], std=[0.229, 0.224, 0.225]\n",
    "                    ),\n",
    "                ]\n",
    "            )\n",
    "        ],\n",
    "    ),\n",
    "    batch_size=batch_size,\n",
    ")\n",
    "\n",
    "test_dataloader = DataLoader(\n",
    "    JetbotDataset(\n",
    "        df.iloc[data_indices[val_end_index:]],\n",
    "        photos[data_indices[val_end_index:]],\n",
    "        required_transforms=[\n",
    "            transforms.Compose(\n",
    "                [\n",
    "                    norm_to_01_range,\n",
    "                    transforms.Normalize(\n",
    "                        mean=[0.485, 0.456, 0.406], std=[0.229, 0.224, 0.225]\n",
    "                    ),\n",
    "                ]\n",
    "            )\n",
    "        ],\n",
    "    ),\n",
    "    batch_size=batch_size,\n",
    ")\n",
    "\n",
    "\n",
    "squeezenet_model = models.squeezenet1_1(\n",
    "    weights=models.squeezenet.SqueezeNet1_1_Weights\n",
    ")\n",
    "\n",
    "squeezenet_model.classifier = nn.Sequential(\n",
    "    nn.Dropout(p=0.5),\n",
    "    nn.Conv2d(512, 256, kernel_size=1),\n",
    "    nn.Tanh(),\n",
    "    nn.Conv2d(256, 2, kernel_size=3),\n",
    "    nn.AvgPool2d(9),\n",
    "    nn.Tanh(),\n",
    ")\n",
    "\n",
    "optimizer = torch.optim.SGD(squeezenet_model.parameters(), lr=0.01)\n",
    "loss = CustomLoss()\n",
    "\n",
    "print(squeezenet_model)\n",
    "print(\n",
    "    f\"Total number of parameters = {sum(p.numel() for p in squeezenet_model.parameters())}\"\n",
    ")\n",
    "squeezenet_model(photos[0:2] / 255)"
   ]
  },
  {
   "cell_type": "code",
   "execution_count": null,
   "metadata": {},
   "outputs": [],
   "source": [
    "train_model(\n",
    "    squeezenet_model,\n",
    "    30,\n",
    "    train_dataloader,\n",
    "    val_dataloader,\n",
    "    optimizer,\n",
    "    loss,\n",
    "    model_save_path=f\"{MODELS_DIR}/Model4.pth\",\n",
    "    force_cuda=False\n",
    ")\n",
    "\n",
    "squeezenet_model(photos[10:15] / 255)"
   ]
  },
  {
   "cell_type": "code",
   "execution_count": null,
   "metadata": {},
   "outputs": [],
   "source": [
    "squeezenet_model.load_state_dict(torch.load(f\"{MODELS_DIR}/Model4.pth\"))\n",
    "\n",
    "avg_loss = evaluate_model(squeezenet_model, test_dataloader, CustomLoss())\n",
    "print(f\"Test Loss: {avg_loss:.4f}\")"
   ]
  },
  {
   "cell_type": "markdown",
   "metadata": {},
   "source": [
    "## Exporting to ONNX"
   ]
  },
  {
   "cell_type": "code",
   "execution_count": 41,
   "metadata": {},
   "outputs": [],
   "source": [
    "import onnxruntime as ort\n",
    "\n",
    "input_t = torch.randint(0, 256, (1, 3, 224, 224), dtype=torch.float32)\n",
    "\n",
    "def export_to_onnx(model_cls: type[nn.Module], pth_file: str, onnx_file: str):\n",
    "    model = model_cls()\n",
    "    model.load_state_dict(torch.load(pth_file))\n",
    "    onnx_program = torch.onnx.export(model, input_t, onnx_file, opset_version=11)\n",
    "\n",
    "def run_onnx_on_dummy_input(onnx_file: str):\n",
    "    ort_sess = ort.InferenceSession(onnx_file)\n",
    "    outputs = ort_sess.run(None, {'input.1': input_t.numpy()})\n",
    "\n",
    "    # Print Result\n",
    "    # predicted, actual = classes[outputs[0][0].argmax(0)], classes[y]\n",
    "    # print(f'Predicted: \"{predicted}\", Actual: \"{actual}\"')\n",
    "    return outputs"
   ]
  },
  {
   "cell_type": "code",
   "execution_count": 36,
   "metadata": {},
   "outputs": [],
   "source": [
    "models_cls = [ClassicConv, DeepConv, ResNetLike]\n",
    "pth_files = [f\"Model{i}.pth\" for i in (1,2,3)]\n",
    "onnx_files = [f\"Model{i}.onnx\" for i in (1,2,3)]\n",
    "\n",
    "for model_cls, pth_file, onnx_file in zip(models_cls, pth_files, onnx_files):\n",
    "    export_to_onnx(model_cls, pth_file, onnx_file)"
   ]
  },
  {
   "cell_type": "code",
   "execution_count": 46,
   "metadata": {},
   "outputs": [
    {
     "data": {
      "text/plain": [
       "[array([[0.8325899 , 0.00761106]], dtype=float32)]"
      ]
     },
     "execution_count": 46,
     "metadata": {},
     "output_type": "execute_result"
    }
   ],
   "source": [
    "run_onnx_on_dummy_input(onnx_files[1])"
   ]
  }
 ],
 "metadata": {
  "kernelspec": {
   "display_name": "base",
   "language": "python",
   "name": "python3"
  },
  "language_info": {
   "codemirror_mode": {
    "name": "ipython",
    "version": 3
   },
   "file_extension": ".py",
   "mimetype": "text/x-python",
   "name": "python",
   "nbconvert_exporter": "python",
   "pygments_lexer": "ipython3",
   "version": "3.11.7"
  }
 },
 "nbformat": 4,
 "nbformat_minor": 2
}
