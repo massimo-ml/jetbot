{
 "cells": [
  {
   "cell_type": "markdown",
   "metadata": {},
   "source": [
    "## Imports"
   ]
  },
  {
   "cell_type": "code",
   "execution_count": 47,
   "metadata": {},
   "outputs": [],
   "source": [
    "import glob\n",
    "import os\n",
    "import cv2\n",
    "import random\n",
    "import torch\n",
    "import torchvision\n",
    "\n",
    "import torch.nn.functional as F\n",
    "import pandas as pd\n",
    "import numpy as np\n",
    "import matplotlib.pyplot as plt\n",
    "from tqdm import tqdm\n",
    "\n",
    "from torch import nn\n",
    "from typing import Tuple, Any\n",
    "from torch.utils.data import Dataset, DataLoader\n",
    "from torchvision.transforms import v2\n",
    "import torchvision.models as models"
   ]
  },
  {
   "cell_type": "code",
   "execution_count": 48,
   "metadata": {},
   "outputs": [],
   "source": [
    "os.environ[\"KMP_DUPLICATE_LIB_OK\"] = (\n",
    "    \"True\"  # A fix for some strange matplotlib error\n",
    ")"
   ]
  },
  {
   "cell_type": "code",
   "execution_count": 71,
   "metadata": {},
   "outputs": [],
   "source": [
    "MODELS_DIR = \"models\"\n",
    "DATASET_DIR = \"dataset\""
   ]
  },
  {
   "cell_type": "markdown",
   "metadata": {},
   "source": [
    "## Set seed"
   ]
  },
  {
   "cell_type": "code",
   "execution_count": 50,
   "metadata": {},
   "outputs": [],
   "source": [
    "seed = 44\n",
    "torch.manual_seed(seed)\n",
    "random.seed(seed)\n",
    "np.random.seed(seed)"
   ]
  },
  {
   "cell_type": "markdown",
   "metadata": {},
   "source": [
    "## Load data"
   ]
  },
  {
   "cell_type": "code",
   "execution_count": 51,
   "metadata": {},
   "outputs": [
    {
     "data": {
      "text/html": [
       "<div>\n",
       "<style scoped>\n",
       "    .dataframe tbody tr th:only-of-type {\n",
       "        vertical-align: middle;\n",
       "    }\n",
       "\n",
       "    .dataframe tbody tr th {\n",
       "        vertical-align: top;\n",
       "    }\n",
       "\n",
       "    .dataframe thead th {\n",
       "        text-align: right;\n",
       "    }\n",
       "</style>\n",
       "<table border=\"1\" class=\"dataframe\">\n",
       "  <thead>\n",
       "    <tr style=\"text-align: right;\">\n",
       "      <th></th>\n",
       "      <th>filename</th>\n",
       "      <th>forward</th>\n",
       "      <th>left</th>\n",
       "      <th>folder_name</th>\n",
       "    </tr>\n",
       "    <tr>\n",
       "      <th>photo_id</th>\n",
       "      <th></th>\n",
       "      <th></th>\n",
       "      <th></th>\n",
       "      <th></th>\n",
       "    </tr>\n",
       "  </thead>\n",
       "  <tbody>\n",
       "    <tr>\n",
       "      <th>0</th>\n",
       "      <td>8</td>\n",
       "      <td>0.000000</td>\n",
       "      <td>-0.78125</td>\n",
       "      <td>dataset/1652876206.2541456</td>\n",
       "    </tr>\n",
       "    <tr>\n",
       "      <th>1</th>\n",
       "      <td>9</td>\n",
       "      <td>0.000000</td>\n",
       "      <td>-1.00000</td>\n",
       "      <td>dataset/1652876206.2541456</td>\n",
       "    </tr>\n",
       "    <tr>\n",
       "      <th>2</th>\n",
       "      <td>10</td>\n",
       "      <td>1.000000</td>\n",
       "      <td>-1.00000</td>\n",
       "      <td>dataset/1652876206.2541456</td>\n",
       "    </tr>\n",
       "    <tr>\n",
       "      <th>3</th>\n",
       "      <td>11</td>\n",
       "      <td>1.000000</td>\n",
       "      <td>0.00000</td>\n",
       "      <td>dataset/1652876206.2541456</td>\n",
       "    </tr>\n",
       "    <tr>\n",
       "      <th>4</th>\n",
       "      <td>12</td>\n",
       "      <td>0.953125</td>\n",
       "      <td>0.00000</td>\n",
       "      <td>dataset/1652876206.2541456</td>\n",
       "    </tr>\n",
       "    <tr>\n",
       "      <th>...</th>\n",
       "      <td>...</td>\n",
       "      <td>...</td>\n",
       "      <td>...</td>\n",
       "      <td>...</td>\n",
       "    </tr>\n",
       "    <tr>\n",
       "      <th>7579</th>\n",
       "      <td>995</td>\n",
       "      <td>1.000000</td>\n",
       "      <td>-1.00000</td>\n",
       "      <td>dataset/1652876485.8123376</td>\n",
       "    </tr>\n",
       "    <tr>\n",
       "      <th>7580</th>\n",
       "      <td>996</td>\n",
       "      <td>1.000000</td>\n",
       "      <td>-1.00000</td>\n",
       "      <td>dataset/1652876485.8123376</td>\n",
       "    </tr>\n",
       "    <tr>\n",
       "      <th>7581</th>\n",
       "      <td>997</td>\n",
       "      <td>1.000000</td>\n",
       "      <td>-1.00000</td>\n",
       "      <td>dataset/1652876485.8123376</td>\n",
       "    </tr>\n",
       "    <tr>\n",
       "      <th>7582</th>\n",
       "      <td>998</td>\n",
       "      <td>1.000000</td>\n",
       "      <td>-1.00000</td>\n",
       "      <td>dataset/1652876485.8123376</td>\n",
       "    </tr>\n",
       "    <tr>\n",
       "      <th>7583</th>\n",
       "      <td>999</td>\n",
       "      <td>1.000000</td>\n",
       "      <td>-1.00000</td>\n",
       "      <td>dataset/1652876485.8123376</td>\n",
       "    </tr>\n",
       "  </tbody>\n",
       "</table>\n",
       "<p>7584 rows × 4 columns</p>\n",
       "</div>"
      ],
      "text/plain": [
       "          filename   forward     left                 folder_name\n",
       "photo_id                                                         \n",
       "0                8  0.000000 -0.78125  dataset/1652876206.2541456\n",
       "1                9  0.000000 -1.00000  dataset/1652876206.2541456\n",
       "2               10  1.000000 -1.00000  dataset/1652876206.2541456\n",
       "3               11  1.000000  0.00000  dataset/1652876206.2541456\n",
       "4               12  0.953125  0.00000  dataset/1652876206.2541456\n",
       "...            ...       ...      ...                         ...\n",
       "7579           995  1.000000 -1.00000  dataset/1652876485.8123376\n",
       "7580           996  1.000000 -1.00000  dataset/1652876485.8123376\n",
       "7581           997  1.000000 -1.00000  dataset/1652876485.8123376\n",
       "7582           998  1.000000 -1.00000  dataset/1652876485.8123376\n",
       "7583           999  1.000000 -1.00000  dataset/1652876485.8123376\n",
       "\n",
       "[7584 rows x 4 columns]"
      ]
     },
     "execution_count": 51,
     "metadata": {},
     "output_type": "execute_result"
    }
   ],
   "source": [
    "def load_data(dataset_folder_path: str) -> Tuple[pd.DataFrame, torch.tensor]:\n",
    "    \"\"\"\n",
    "    Returns pd.Dataframe with targets and torch.tensor with photo data\n",
    "    \"\"\"\n",
    "    df = None\n",
    "    photos = []\n",
    "    curr_photo_id = 0\n",
    "    for csv_file in glob.glob(f\"{dataset_folder_path}/*.csv\"):\n",
    "        folder_df = pd.read_csv(\n",
    "            csv_file, header=None, names=[\"filename\", \"forward\", \"left\"]\n",
    "        )\n",
    "        photo_folder_name = os.path.splitext(csv_file)[0]\n",
    "        folder_df[\"folder_name\"] = photo_folder_name\n",
    "        photo_paths = glob.glob(f\"{photo_folder_name}/*.jpg\")\n",
    "        for photo_path in photo_paths:\n",
    "            photos.append(torchvision.io.read_image(photo_path))\n",
    "        folder_df[\"photo_id\"] = folder_df.index + curr_photo_id\n",
    "        curr_photo_id += folder_df.index.max() + 1\n",
    "        if df is None:\n",
    "            df = folder_df\n",
    "        else:\n",
    "            df = pd.concat([df, folder_df], axis=0)\n",
    "    df = df.set_index(\"photo_id\")\n",
    "    photos = torch.from_numpy(np.array(photos))\n",
    "    return df, photos\n",
    "\n",
    "\n",
    "df, photos = load_data(DATASET_DIR)\n",
    "df"
   ]
  },
  {
   "cell_type": "markdown",
   "metadata": {},
   "source": [
    "## Dataset"
   ]
  },
  {
   "cell_type": "code",
   "execution_count": 53,
   "metadata": {},
   "outputs": [],
   "source": [
    "class JetbotDataset(Dataset):\n",
    "    def __init__(\n",
    "        self,\n",
    "        df: pd.DataFrame,\n",
    "        images: torch.tensor,\n",
    "        transforms: list | None = None,\n",
    "    ) -> None:\n",
    "        \"\"\"\n",
    "        df: pd.DataFrame loaded by load_data()\n",
    "        images: torch.tensor with image data loaded by load_data()\n",
    "        transforms: a list of transforms to augment the data with\n",
    "        \"\"\"\n",
    "        super().__init__()\n",
    "        if transforms is None:\n",
    "            transforms = []\n",
    "        self.df = df\n",
    "        self.images = images\n",
    "        self.transforms = transforms\n",
    "\n",
    "    def __len__(self) -> int:\n",
    "        return self.df.shape[0]\n",
    "\n",
    "    def __getitem__(self, index) -> Tuple[np.array, np.array]:\n",
    "        sample = self.df.iloc[index]\n",
    "        target = torch.tensor([sample.forward, sample.left], dtype=torch.float32)\n",
    "        img = self.images[index].float()\n",
    "        if len(self.transforms) > 0:\n",
    "            random_transform = np.random.choice(self.transforms)\n",
    "            img, target = random_transform(img, target)\n",
    "            \n",
    "        return img, target"
   ]
  },
  {
   "cell_type": "code",
   "execution_count": 54,
   "metadata": {},
   "outputs": [],
   "source": [
    "def display_image(img: torch.tensor, target: torch.tensor = None):\n",
    "    plt.imshow(img.numpy().astype(np.uint8).transpose((1, 2, 0)))\n",
    "    if target is not None:\n",
    "        plt.text(\n",
    "            0,\n",
    "            -10,\n",
    "            f'Target: [{\",\".join([str(i) for i in target])}]',\n",
    "            fontsize=\"x-large\",\n",
    "        )"
   ]
  },
  {
   "cell_type": "markdown",
   "metadata": {},
   "source": [
    "## Transforms"
   ]
  },
  {
   "cell_type": "code",
   "execution_count": 55,
   "metadata": {},
   "outputs": [],
   "source": [
    "class RandomJetbotHorizontalFlip(torch.nn.Module):\n",
    "    def __init__(self, p: float = 0.5) -> None:\n",
    "        super().__init__()\n",
    "        self.p = p\n",
    "\n",
    "    def forward(self, *inputs: Any) -> Any:\n",
    "        img, target = inputs\n",
    "        if np.random.random() >= self.p:  # Flip\n",
    "            img = torchvision.transforms.functional.hflip(img)\n",
    "            target[1] *= -1  # Flip 'left' component\n",
    "        return img, target\n",
    "\n",
    "\n",
    "# Vertical flip doesn't make sense in our problem\n",
    "\n",
    "train_transforms = [RandomJetbotHorizontalFlip()]  # Feel free to add more\n",
    "test_transforms = []  # Test on original examples"
   ]
  },
  {
   "cell_type": "code",
   "execution_count": 56,
   "metadata": {},
   "outputs": [
    {
     "data": {
      "image/png": "[encoded data removed]",
      "text/plain": [
       "<Figure size 640x480 with 1 Axes>"
      ]
     },
     "metadata": {},
     "output_type": "display_data"
    }
   ],
   "source": [
    "dataset = JetbotDataset(df, photos, train_transforms)\n",
    "img, target = dataset[400]\n",
    "display_image(img, target)"
   ]
  },
  {
   "cell_type": "markdown",
   "metadata": {},
   "source": [
    "## Train-test-validation split"
   ]
  },
  {
   "cell_type": "code",
   "execution_count": 65,
   "metadata": {},
   "outputs": [],
   "source": [
    "train_size = 0.7\n",
    "val_size = 0.15\n",
    "test_size = 1 - (train_size + val_size)\n",
    "batch_size = 64\n",
    "\n",
    "data_indices = np.random.permutation(np.arange(df.shape[0]))\n",
    "\n",
    "train_end_index = int(len(data_indices) * train_size)\n",
    "val_end_index = train_end_index + int(len(data_indices) * val_size)\n",
    "\n",
    "train_dataloader = DataLoader(\n",
    "    JetbotDataset(\n",
    "        df.iloc[data_indices[:train_end_index]],\n",
    "        photos[data_indices[:train_end_index]],\n",
    "        transforms=train_transforms\n",
    "    ),\n",
    "    batch_size=batch_size,\n",
    ")\n",
    "\n",
    "val_dataloader = DataLoader(\n",
    "    JetbotDataset(\n",
    "        df.iloc[data_indices[train_end_index:val_end_index]],\n",
    "        photos[data_indices[train_end_index:val_end_index]],\n",
    "    ),\n",
    "    batch_size=batch_size,\n",
    ")\n",
    "\n",
    "test_dataloader = DataLoader(\n",
    "    JetbotDataset(\n",
    "        df.iloc[data_indices[val_end_index:]],\n",
    "        photos[data_indices[val_end_index:]],\n",
    "    ),\n",
    "    batch_size=batch_size,\n",
    ")"
   ]
  },
  {
   "cell_type": "markdown",
   "metadata": {},
   "source": [
    "## Training / Evaluation functions."
   ]
  },
  {
   "cell_type": "code",
   "execution_count": 74,
   "metadata": {},
   "outputs": [],
   "source": [
    "def train_model(\n",
    "    model: nn.Module,\n",
    "    epochs: int,\n",
    "    trainloader: DataLoader,\n",
    "    validloader: DataLoader,\n",
    "    optimizer: torch.optim.Optimizer,\n",
    "    loss_func: callable,\n",
    "    model_save_path: str,\n",
    "    force_cuda: bool = False,\n",
    "):\n",
    "    \"\"\"\n",
    "    Taken from https://www.geeksforgeeks.org/training-neural-networks-with-validation-using-pytorch/,\n",
    "    feel free to change it\n",
    "    \"\"\"\n",
    "    if force_cuda and torch.cuda.is_available():\n",
    "        model.cuda()\n",
    "\n",
    "    min_valid_loss = np.inf\n",
    "    for e in range(epochs):\n",
    "        train_loss = 0.0\n",
    "        model.train()  # Optional when not using Model Specific layer\n",
    "        for data, labels in tqdm(trainloader):\n",
    "            if force_cuda and torch.cuda.is_available():\n",
    "                data, labels = data.cuda(), labels.cuda()\n",
    "\n",
    "            optimizer.zero_grad()\n",
    "            target = model(data)\n",
    "            loss = loss_func(target, labels)\n",
    "            loss.backward()\n",
    "            optimizer.step()\n",
    "            train_loss += loss.item()\n",
    "\n",
    "        valid_loss = 0.0\n",
    "        model.eval()  # Optional when not using Model Specific layer\n",
    "        for data, labels in tqdm(validloader):\n",
    "            if torch.cuda.is_available():\n",
    "                data, labels = data.cuda(), labels.cuda()\n",
    "\n",
    "            target = model(data)\n",
    "            loss = loss_func(target, labels)\n",
    "            valid_loss = loss.item() * data.size(0)\n",
    "\n",
    "        print(\n",
    "            f\"Epoch {e+1} \\t\\t Training Loss: {train_loss / len(trainloader)} \\t\\t Validation Loss: {valid_loss / len(validloader)}\"\n",
    "        )\n",
    "        \n",
    "        if min_valid_loss > valid_loss:\n",
    "            print(\n",
    "                f\"Validation Loss Decreased({min_valid_loss:.6f}--->{valid_loss:.6f}) \\t Saving The Model\"\n",
    "            )\n",
    "            min_valid_loss = valid_loss\n",
    "            # Saving State Dict\n",
    "            torch.save(model.state_dict(), model_save_path)"
   ]
  },
  {
   "cell_type": "code",
   "execution_count": 67,
   "metadata": {},
   "outputs": [],
   "source": [
    "def evaluate_model(\n",
    "    model: nn.Module,\n",
    "    dataloader: DataLoader,\n",
    "    loss_func: callable,\n",
    "    device: torch.device = torch.device('cuda' if torch.cuda.is_available() else 'cpu')\n",
    "):\n",
    "    model.to(device)\n",
    "    model.eval()\n",
    "\n",
    "    total_loss = 0.0\n",
    "    total_samples = 0\n",
    "\n",
    "    with torch.no_grad():\n",
    "        for data, labels in dataloader:\n",
    "            data, labels = data.to(device), labels.to(device)\n",
    "\n",
    "            outputs = model(data)\n",
    "            loss = loss_func(outputs, labels)\n",
    "            \n",
    "            total_loss += loss.item() * data.size(0)\n",
    "            total_samples += data.size(0)\n",
    "\n",
    "    avg_loss = total_loss / total_samples\n",
    "    return avg_loss"
   ]
  },
  {
   "cell_type": "markdown",
   "metadata": {},
   "source": [
    "## Model 1: Classical Convolution"
   ]
  },
  {
   "cell_type": "code",
   "execution_count": 68,
   "metadata": {},
   "outputs": [],
   "source": [
    "class ClassicConv(nn.Module):\n",
    "    def __init__(self, *args, **kwargs) -> None:\n",
    "        super().__init__(*args, **kwargs)\n",
    "        self.conv_block1 = nn.Sequential(\n",
    "            nn.Conv2d(3, 10, kernel_size=(3, 3), padding=\"same\"),\n",
    "            nn.ReLU(),\n",
    "            nn.MaxPool2d(kernel_size=(2, 2)),\n",
    "        )\n",
    "        self.conv_block2 = nn.Sequential(\n",
    "            nn.Conv2d(10, 50, kernel_size=(3, 3), padding=\"same\"),\n",
    "            nn.ReLU(),\n",
    "            nn.MaxPool2d(kernel_size=(2, 2)),\n",
    "        )\n",
    "        self.conv_block3 = nn.Sequential(\n",
    "            nn.Conv2d(50, 100, kernel_size=(3, 3), padding=\"same\"),\n",
    "            nn.ReLU(),\n",
    "            nn.MaxPool2d(kernel_size=(2, 2)),\n",
    "        )\n",
    "        self.global_pool = nn.AdaptiveMaxPool2d((1, 1))\n",
    "        self.fully_connected = nn.Sequential(\n",
    "            nn.Linear(100, 50),\n",
    "            nn.ReLU(),\n",
    "            nn.Linear(50, 10),\n",
    "            nn.ReLU(),\n",
    "            nn.Linear(10, 2),\n",
    "            nn.Tanh(),\n",
    "        )\n",
    "\n",
    "    def forward(self, x: torch.Tensor):\n",
    "        x = self.conv_block1(x)\n",
    "        x = self.conv_block2(x)\n",
    "        x = self.conv_block3(x)\n",
    "        x = self.global_pool(x)\n",
    "        x = x.flatten(1, -1)\n",
    "        x = self.fully_connected(x)\n",
    "        return x"
   ]
  },
  {
   "cell_type": "code",
   "execution_count": 69,
   "metadata": {},
   "outputs": [
    {
     "name": "stdout",
     "output_type": "stream",
     "text": [
      "ClassicConv(\n",
      "  (conv_block1): Sequential(\n",
      "    (0): Conv2d(3, 10, kernel_size=(3, 3), stride=(1, 1), padding=same)\n",
      "    (1): ReLU()\n",
      "    (2): MaxPool2d(kernel_size=(2, 2), stride=(2, 2), padding=0, dilation=1, ceil_mode=False)\n",
      "  )\n",
      "  (conv_block2): Sequential(\n",
      "    (0): Conv2d(10, 50, kernel_size=(3, 3), stride=(1, 1), padding=same)\n",
      "    (1): ReLU()\n",
      "    (2): MaxPool2d(kernel_size=(2, 2), stride=(2, 2), padding=0, dilation=1, ceil_mode=False)\n",
      "  )\n",
      "  (conv_block3): Sequential(\n",
      "    (0): Conv2d(50, 100, kernel_size=(3, 3), stride=(1, 1), padding=same)\n",
      "    (1): ReLU()\n",
      "    (2): MaxPool2d(kernel_size=(2, 2), stride=(2, 2), padding=0, dilation=1, ceil_mode=False)\n",
      "  )\n",
      "  (global_pool): AdaptiveMaxPool2d(output_size=(1, 1))\n",
      "  (fully_connected): Sequential(\n",
      "    (0): Linear(in_features=100, out_features=50, bias=True)\n",
      "    (1): ReLU()\n",
      "    (2): Linear(in_features=50, out_features=10, bias=True)\n",
      "    (3): ReLU()\n",
      "    (4): Linear(in_features=10, out_features=2, bias=True)\n",
      "    (5): Tanh()\n",
      "  )\n",
      ")\n",
      "Total number of parameters = 55512\n"
     ]
    }
   ],
   "source": [
    "conv_model = ClassicConv()\n",
    "optimizer = torch.optim.Adam(conv_model.parameters(), lr=0.001)\n",
    "loss = nn.MSELoss()\n",
    "print(conv_model)\n",
    "print(f\"Total number of parameters = {sum(p.numel() for p in conv_model.parameters())}\")"
   ]
  },
  {
   "cell_type": "code",
   "execution_count": 70,
   "metadata": {},
   "outputs": [
    {
     "name": "stderr",
     "output_type": "stream",
     "text": [
      "  0%|          | 0/83 [00:00<?, ?it/s]"
     ]
    },
    {
     "name": "stderr",
     "output_type": "stream",
     "text": [
      "100%|██████████| 83/83 [00:10<00:00,  7.87it/s]\n",
      "100%|██████████| 18/18 [00:00<00:00, 18.93it/s]\n"
     ]
    },
    {
     "name": "stdout",
     "output_type": "stream",
     "text": [
      "Epoch 1 \t\t Training Loss: 0.258363090186234 \t\t Validation Loss: 0.8129446026351717\n",
      "Validation Loss Decreased(inf--->14.633003) \t Saving The Model\n"
     ]
    },
    {
     "name": "stderr",
     "output_type": "stream",
     "text": [
      "100%|██████████| 83/83 [00:10<00:00,  7.88it/s]\n",
      "100%|██████████| 18/18 [00:01<00:00, 13.57it/s]\n"
     ]
    },
    {
     "name": "stdout",
     "output_type": "stream",
     "text": [
      "Epoch 2 \t\t Training Loss: 0.2416857321219272 \t\t Validation Loss: 0.8142591284381019\n"
     ]
    },
    {
     "name": "stderr",
     "output_type": "stream",
     "text": [
      "100%|██████████| 83/83 [00:10<00:00,  8.17it/s]\n",
      "100%|██████████| 18/18 [00:01<00:00, 10.92it/s]\n"
     ]
    },
    {
     "name": "stdout",
     "output_type": "stream",
     "text": [
      "Epoch 3 \t\t Training Loss: 0.2413023022643055 \t\t Validation Loss: 0.8243280731969409\n"
     ]
    },
    {
     "name": "stderr",
     "output_type": "stream",
     "text": [
      "100%|██████████| 83/83 [00:10<00:00,  7.57it/s]\n",
      "100%|██████████| 18/18 [00:01<00:00, 14.08it/s]\n"
     ]
    },
    {
     "name": "stdout",
     "output_type": "stream",
     "text": [
      "Epoch 4 \t\t Training Loss: 0.23378759838012328 \t\t Validation Loss: 0.797857532898585\n",
      "Validation Loss Decreased(14.633003--->14.361436) \t Saving The Model\n"
     ]
    },
    {
     "name": "stderr",
     "output_type": "stream",
     "text": [
      "100%|██████████| 83/83 [00:11<00:00,  7.13it/s]\n",
      "100%|██████████| 18/18 [00:01<00:00, 11.53it/s]\n"
     ]
    },
    {
     "name": "stdout",
     "output_type": "stream",
     "text": [
      "Epoch 5 \t\t Training Loss: 0.23208867390471768 \t\t Validation Loss: 0.791933364338345\n",
      "Validation Loss Decreased(14.361436--->14.254801) \t Saving The Model\n"
     ]
    },
    {
     "name": "stderr",
     "output_type": "stream",
     "text": [
      "100%|██████████| 83/83 [00:10<00:00,  7.77it/s]\n",
      "100%|██████████| 18/18 [00:00<00:00, 18.68it/s]\n"
     ]
    },
    {
     "name": "stdout",
     "output_type": "stream",
     "text": [
      "Epoch 6 \t\t Training Loss: 0.22945379762046308 \t\t Validation Loss: 0.7961734665764703\n"
     ]
    },
    {
     "name": "stderr",
     "output_type": "stream",
     "text": [
      "100%|██████████| 83/83 [00:10<00:00,  7.93it/s]\n",
      "100%|██████████| 18/18 [00:01<00:00, 17.01it/s]\n"
     ]
    },
    {
     "name": "stdout",
     "output_type": "stream",
     "text": [
      "Epoch 7 \t\t Training Loss: 0.2298077350280371 \t\t Validation Loss: 0.7896822906202741\n",
      "Validation Loss Decreased(14.254801--->14.214281) \t Saving The Model\n"
     ]
    },
    {
     "name": "stderr",
     "output_type": "stream",
     "text": [
      "100%|██████████| 83/83 [00:10<00:00,  7.97it/s]\n",
      "100%|██████████| 18/18 [00:00<00:00, 19.28it/s]\n"
     ]
    },
    {
     "name": "stdout",
     "output_type": "stream",
     "text": [
      "Epoch 8 \t\t Training Loss: 0.22898945320083433 \t\t Validation Loss: 0.7745613091521792\n",
      "Validation Loss Decreased(14.214281--->13.942104) \t Saving The Model\n"
     ]
    },
    {
     "name": "stderr",
     "output_type": "stream",
     "text": [
      "100%|██████████| 83/83 [00:10<00:00,  8.14it/s]\n",
      "100%|██████████| 18/18 [00:00<00:00, 18.98it/s]\n"
     ]
    },
    {
     "name": "stdout",
     "output_type": "stream",
     "text": [
      "Epoch 9 \t\t Training Loss: 0.2284250753112586 \t\t Validation Loss: 0.8327726622422537\n"
     ]
    },
    {
     "name": "stderr",
     "output_type": "stream",
     "text": [
      "100%|██████████| 83/83 [00:10<00:00,  7.94it/s]\n",
      "100%|██████████| 18/18 [00:01<00:00, 17.51it/s]\n"
     ]
    },
    {
     "name": "stdout",
     "output_type": "stream",
     "text": [
      "Epoch 10 \t\t Training Loss: 0.22663365160844412 \t\t Validation Loss: 0.8078984071811041\n"
     ]
    },
    {
     "name": "stderr",
     "output_type": "stream",
     "text": [
      "100%|██████████| 83/83 [00:10<00:00,  8.00it/s]\n",
      "100%|██████████| 18/18 [00:01<00:00, 14.83it/s]\n"
     ]
    },
    {
     "name": "stdout",
     "output_type": "stream",
     "text": [
      "Epoch 11 \t\t Training Loss: 0.2255509574729276 \t\t Validation Loss: 0.8145517590973113\n"
     ]
    },
    {
     "name": "stderr",
     "output_type": "stream",
     "text": [
      "100%|██████████| 83/83 [00:11<00:00,  7.25it/s]\n",
      "100%|██████████| 18/18 [00:00<00:00, 19.17it/s]\n"
     ]
    },
    {
     "name": "stdout",
     "output_type": "stream",
     "text": [
      "Epoch 12 \t\t Training Loss: 0.22201799035790454 \t\t Validation Loss: 0.8253840423292584\n"
     ]
    },
    {
     "name": "stderr",
     "output_type": "stream",
     "text": [
      "100%|██████████| 83/83 [00:10<00:00,  8.02it/s]\n",
      "100%|██████████| 18/18 [00:00<00:00, 18.92it/s]\n"
     ]
    },
    {
     "name": "stdout",
     "output_type": "stream",
     "text": [
      "Epoch 13 \t\t Training Loss: 0.22390035656561336 \t\t Validation Loss: 0.801966937051879\n"
     ]
    },
    {
     "name": "stderr",
     "output_type": "stream",
     "text": [
      "100%|██████████| 83/83 [00:11<00:00,  7.42it/s]\n",
      "100%|██████████| 18/18 [00:01<00:00, 14.87it/s]\n"
     ]
    },
    {
     "name": "stdout",
     "output_type": "stream",
     "text": [
      "Epoch 14 \t\t Training Loss: 0.21784499628716206 \t\t Validation Loss: 0.8047840446233749\n"
     ]
    },
    {
     "name": "stderr",
     "output_type": "stream",
     "text": [
      "100%|██████████| 83/83 [00:11<00:00,  7.05it/s]\n",
      "100%|██████████| 18/18 [00:00<00:00, 18.73it/s]"
     ]
    },
    {
     "name": "stdout",
     "output_type": "stream",
     "text": [
      "Epoch 15 \t\t Training Loss: 0.21579600044761796 \t\t Validation Loss: 0.8172070152229733\n"
     ]
    },
    {
     "name": "stderr",
     "output_type": "stream",
     "text": [
      "\n"
     ]
    }
   ],
   "source": [
    "train_model(\n",
    "    conv_model,\n",
    "    epochs=15,\n",
    "    trainloader=train_dataloader,\n",
    "    validloader=val_dataloader,\n",
    "    optimizer=optimizer,\n",
    "    loss_func=loss,\n",
    "    model_save_path=f'{MODELS_DIR}/Model1.pth',\n",
    "    force_cuda=True\n",
    ")"
   ]
  },
  {
   "cell_type": "code",
   "execution_count": 18,
   "metadata": {},
   "outputs": [
    {
     "name": "stdout",
     "output_type": "stream",
     "text": [
      "Test Loss: 0.1190\n"
     ]
    }
   ],
   "source": [
    "conv_model.load_state_dict(torch.load('Model1.pth'))\n",
    "\n",
    "avg_loss = evaluate_model(conv_model, test_dataloader, nn.MSELoss())\n",
    "print(f'Test Loss: {avg_loss:.4f}')"
   ]
  },
  {
   "cell_type": "markdown",
   "metadata": {},
   "source": [
    "## Model 2: deeper conv model"
   ]
  },
  {
   "cell_type": "code",
   "execution_count": 75,
   "metadata": {},
   "outputs": [],
   "source": [
    "class DeepConv(nn.Module):\n",
    "    def __init__(self, *args, **kwargs) -> None:\n",
    "        super().__init__(*args, **kwargs)\n",
    "        self.conv_block1 = nn.Sequential(\n",
    "            nn.Conv2d(3, 16, kernel_size=(3, 3), padding=\"same\"),\n",
    "            nn.ReLU(),\n",
    "            nn.MaxPool2d(kernel_size=(2, 2)),\n",
    "        )\n",
    "        self.conv_block2 = nn.Sequential(\n",
    "            nn.Conv2d(16, 32, kernel_size=(3, 3), padding=\"same\"),\n",
    "            nn.ReLU(),\n",
    "            nn.MaxPool2d(kernel_size=(2, 2)),\n",
    "        )\n",
    "        self.conv_block3 = nn.Sequential(\n",
    "            nn.Conv2d(32, 64, kernel_size=(3, 3), padding=\"same\"),\n",
    "            nn.ReLU(),\n",
    "            nn.MaxPool2d(kernel_size=(2, 2)),\n",
    "        )\n",
    "        self.conv_block4 = nn.Sequential(\n",
    "            nn.Conv2d(64, 128, kernel_size=(3, 3), padding=\"same\"),\n",
    "            nn.ReLU(),\n",
    "            nn.MaxPool2d(kernel_size=(2, 2)),\n",
    "        )\n",
    "        self.global_pool = nn.AdaptiveMaxPool2d((1, 1))\n",
    "        self.fully_connected = nn.Sequential(\n",
    "            nn.Linear(128, 64),\n",
    "            nn.ReLU(),\n",
    "            nn.Linear(64, 32),\n",
    "            nn.ReLU(),\n",
    "            nn.Linear(32, 2),\n",
    "            nn.Tanh(),\n",
    "        )\n",
    "\n",
    "    def forward(self, x: torch.Tensor):\n",
    "        x = self.conv_block1(x)\n",
    "        x = self.conv_block2(x)\n",
    "        x = self.conv_block3(x)\n",
    "        x = self.conv_block4(x)\n",
    "        x = self.global_pool(x)\n",
    "        x = x.flatten(1, -1)\n",
    "        x = self.fully_connected(x)\n",
    "        return x"
   ]
  },
  {
   "cell_type": "code",
   "execution_count": 76,
   "metadata": {},
   "outputs": [
    {
     "name": "stdout",
     "output_type": "stream",
     "text": [
      "DeepConv(\n",
      "  (conv_block1): Sequential(\n",
      "    (0): Conv2d(3, 16, kernel_size=(3, 3), stride=(1, 1), padding=same)\n",
      "    (1): ReLU()\n",
      "    (2): MaxPool2d(kernel_size=(2, 2), stride=(2, 2), padding=0, dilation=1, ceil_mode=False)\n",
      "  )\n",
      "  (conv_block2): Sequential(\n",
      "    (0): Conv2d(16, 32, kernel_size=(3, 3), stride=(1, 1), padding=same)\n",
      "    (1): ReLU()\n",
      "    (2): MaxPool2d(kernel_size=(2, 2), stride=(2, 2), padding=0, dilation=1, ceil_mode=False)\n",
      "  )\n",
      "  (conv_block3): Sequential(\n",
      "    (0): Conv2d(32, 64, kernel_size=(3, 3), stride=(1, 1), padding=same)\n",
      "    (1): ReLU()\n",
      "    (2): MaxPool2d(kernel_size=(2, 2), stride=(2, 2), padding=0, dilation=1, ceil_mode=False)\n",
      "  )\n",
      "  (conv_block4): Sequential(\n",
      "    (0): Conv2d(64, 128, kernel_size=(3, 3), stride=(1, 1), padding=same)\n",
      "    (1): ReLU()\n",
      "    (2): MaxPool2d(kernel_size=(2, 2), stride=(2, 2), padding=0, dilation=1, ceil_mode=False)\n",
      "  )\n",
      "  (global_pool): AdaptiveMaxPool2d(output_size=(1, 1))\n",
      "  (fully_connected): Sequential(\n",
      "    (0): Linear(in_features=128, out_features=64, bias=True)\n",
      "    (1): ReLU()\n",
      "    (2): Linear(in_features=64, out_features=32, bias=True)\n",
      "    (3): ReLU()\n",
      "    (4): Linear(in_features=32, out_features=2, bias=True)\n",
      "    (5): Tanh()\n",
      "  )\n",
      ")\n",
      "Total number of parameters = 107842\n"
     ]
    }
   ],
   "source": [
    "deep_conv_model = DeepConv()\n",
    "optimizer = torch.optim.Adam(deep_conv_model.parameters())\n",
    "loss = nn.MSELoss()\n",
    "print(deep_conv_model)\n",
    "print(f\"Total number of parameters = {sum(p.numel() for p in deep_conv_model.parameters())}\")"
   ]
  },
  {
   "cell_type": "code",
   "execution_count": 77,
   "metadata": {},
   "outputs": [
    {
     "name": "stderr",
     "output_type": "stream",
     "text": [
      "  0%|          | 0/83 [00:00<?, ?it/s]"
     ]
    },
    {
     "name": "stderr",
     "output_type": "stream",
     "text": [
      "100%|██████████| 83/83 [00:10<00:00,  8.23it/s]\n",
      "100%|██████████| 18/18 [00:01<00:00, 17.97it/s]\n"
     ]
    },
    {
     "name": "stdout",
     "output_type": "stream",
     "text": [
      "Epoch 1 \t\t Training Loss: 0.2544776483113507 \t\t Validation Loss: 0.7935241328345405\n",
      "Validation Loss Decreased(inf--->14.283434) \t Saving The Model\n"
     ]
    },
    {
     "name": "stderr",
     "output_type": "stream",
     "text": [
      "100%|██████████| 83/83 [00:10<00:00,  8.30it/s]\n",
      "100%|██████████| 18/18 [00:00<00:00, 20.12it/s]\n"
     ]
    },
    {
     "name": "stdout",
     "output_type": "stream",
     "text": [
      "Epoch 2 \t\t Training Loss: 0.23429318185312203 \t\t Validation Loss: 0.7872060851918327\n",
      "Validation Loss Decreased(14.283434--->14.169710) \t Saving The Model\n"
     ]
    },
    {
     "name": "stderr",
     "output_type": "stream",
     "text": [
      "100%|██████████| 83/83 [00:09<00:00,  8.36it/s]\n",
      "100%|██████████| 18/18 [00:00<00:00, 20.78it/s]\n"
     ]
    },
    {
     "name": "stdout",
     "output_type": "stream",
     "text": [
      "Epoch 3 \t\t Training Loss: 0.23223830364554762 \t\t Validation Loss: 0.7849670996268591\n",
      "Validation Loss Decreased(14.169710--->14.129408) \t Saving The Model\n"
     ]
    },
    {
     "name": "stderr",
     "output_type": "stream",
     "text": [
      "100%|██████████| 83/83 [00:09<00:00,  8.39it/s]\n",
      "100%|██████████| 18/18 [00:00<00:00, 20.59it/s]\n"
     ]
    },
    {
     "name": "stdout",
     "output_type": "stream",
     "text": [
      "Epoch 4 \t\t Training Loss: 0.23403562659240632 \t\t Validation Loss: 0.7928133656581243\n"
     ]
    },
    {
     "name": "stderr",
     "output_type": "stream",
     "text": [
      "100%|██████████| 83/83 [00:10<00:00,  8.03it/s]\n",
      "100%|██████████| 18/18 [00:00<00:00, 19.79it/s]\n"
     ]
    },
    {
     "name": "stdout",
     "output_type": "stream",
     "text": [
      "Epoch 5 \t\t Training Loss: 0.2326428954859814 \t\t Validation Loss: 0.7981904033157561\n"
     ]
    },
    {
     "name": "stderr",
     "output_type": "stream",
     "text": [
      "100%|██████████| 83/83 [00:10<00:00,  8.11it/s]\n",
      "100%|██████████| 18/18 [00:01<00:00, 10.76it/s]\n"
     ]
    },
    {
     "name": "stdout",
     "output_type": "stream",
     "text": [
      "Epoch 6 \t\t Training Loss: 0.2314891138349671 \t\t Validation Loss: 0.7895946717924542\n"
     ]
    },
    {
     "name": "stderr",
     "output_type": "stream",
     "text": [
      "100%|██████████| 83/83 [00:10<00:00,  8.08it/s]\n",
      "100%|██████████| 18/18 [00:00<00:00, 19.45it/s]\n"
     ]
    },
    {
     "name": "stdout",
     "output_type": "stream",
     "text": [
      "Epoch 7 \t\t Training Loss: 0.2305691911872611 \t\t Validation Loss: 0.7932826942867703\n"
     ]
    },
    {
     "name": "stderr",
     "output_type": "stream",
     "text": [
      "100%|██████████| 83/83 [00:11<00:00,  7.27it/s]\n",
      "100%|██████████| 18/18 [00:00<00:00, 20.00it/s]\n"
     ]
    },
    {
     "name": "stdout",
     "output_type": "stream",
     "text": [
      "Epoch 8 \t\t Training Loss: 0.23008505066475235 \t\t Validation Loss: 0.7981377508905199\n"
     ]
    },
    {
     "name": "stderr",
     "output_type": "stream",
     "text": [
      "100%|██████████| 83/83 [00:09<00:00,  8.35it/s]\n",
      "100%|██████████| 18/18 [00:00<00:00, 20.85it/s]\n"
     ]
    },
    {
     "name": "stdout",
     "output_type": "stream",
     "text": [
      "Epoch 9 \t\t Training Loss: 0.2302438024296818 \t\t Validation Loss: 0.8033758964803484\n"
     ]
    },
    {
     "name": "stderr",
     "output_type": "stream",
     "text": [
      "100%|██████████| 83/83 [00:09<00:00,  8.37it/s]\n",
      "100%|██████████| 18/18 [00:00<00:00, 19.80it/s]\n"
     ]
    },
    {
     "name": "stdout",
     "output_type": "stream",
     "text": [
      "Epoch 10 \t\t Training Loss: 0.23076053286891385 \t\t Validation Loss: 0.7834568106465869\n",
      "Validation Loss Decreased(14.129408--->14.102223) \t Saving The Model\n"
     ]
    },
    {
     "name": "stderr",
     "output_type": "stream",
     "text": [
      "100%|██████████| 83/83 [00:10<00:00,  8.06it/s]\n",
      "100%|██████████| 18/18 [00:00<00:00, 20.76it/s]\n"
     ]
    },
    {
     "name": "stdout",
     "output_type": "stream",
     "text": [
      "Epoch 11 \t\t Training Loss: 0.2284934518926115 \t\t Validation Loss: 0.8140387833118439\n"
     ]
    },
    {
     "name": "stderr",
     "output_type": "stream",
     "text": [
      "100%|██████████| 83/83 [00:10<00:00,  8.24it/s]\n",
      "100%|██████████| 18/18 [00:00<00:00, 20.91it/s]\n"
     ]
    },
    {
     "name": "stdout",
     "output_type": "stream",
     "text": [
      "Epoch 12 \t\t Training Loss: 0.22887827491903878 \t\t Validation Loss: 0.7899254328674741\n"
     ]
    },
    {
     "name": "stderr",
     "output_type": "stream",
     "text": [
      "100%|██████████| 83/83 [00:09<00:00,  8.57it/s]\n",
      "100%|██████████| 18/18 [00:00<00:00, 19.79it/s]\n"
     ]
    },
    {
     "name": "stdout",
     "output_type": "stream",
     "text": [
      "Epoch 13 \t\t Training Loss: 0.2276418966701232 \t\t Validation Loss: 0.7812021672725677\n",
      "Validation Loss Decreased(14.102223--->14.061639) \t Saving The Model\n"
     ]
    },
    {
     "name": "stderr",
     "output_type": "stream",
     "text": [
      "100%|██████████| 83/83 [00:10<00:00,  8.21it/s]\n",
      "100%|██████████| 18/18 [00:00<00:00, 20.02it/s]\n"
     ]
    },
    {
     "name": "stdout",
     "output_type": "stream",
     "text": [
      "Epoch 14 \t\t Training Loss: 0.22430937351232552 \t\t Validation Loss: 0.7772710025310516\n",
      "Validation Loss Decreased(14.061639--->13.990878) \t Saving The Model\n"
     ]
    },
    {
     "name": "stderr",
     "output_type": "stream",
     "text": [
      "100%|██████████| 83/83 [00:09<00:00,  8.49it/s]\n",
      "100%|██████████| 18/18 [00:01<00:00, 17.92it/s]"
     ]
    },
    {
     "name": "stdout",
     "output_type": "stream",
     "text": [
      "Epoch 15 \t\t Training Loss: 0.22578583998852467 \t\t Validation Loss: 0.7816792031129202\n"
     ]
    },
    {
     "name": "stderr",
     "output_type": "stream",
     "text": [
      "\n"
     ]
    }
   ],
   "source": [
    "train_model(\n",
    "    deep_conv_model,\n",
    "    epochs=15,\n",
    "    trainloader=train_dataloader,\n",
    "    validloader=val_dataloader,\n",
    "    optimizer=optimizer,\n",
    "    loss_func=loss,\n",
    "    model_save_path=f'{MODELS_DIR}/Model2.pth',\n",
    "    force_cuda=True\n",
    ")"
   ]
  },
  {
   "cell_type": "code",
   "execution_count": 22,
   "metadata": {},
   "outputs": [
    {
     "name": "stdout",
     "output_type": "stream",
     "text": [
      "Test Loss: 0.1027\n"
     ]
    }
   ],
   "source": [
    "deep_conv_model.load_state_dict(torch.load('Model2.pth'))\n",
    "\n",
    "avg_loss = evaluate_model(deep_conv_model, test_dataloader, nn.MSELoss())\n",
    "print(f'Test Loss: {avg_loss:.4f}')"
   ]
  },
  {
   "cell_type": "markdown",
   "metadata": {},
   "source": [
    "## Model 3: Resnet alike"
   ]
  },
  {
   "cell_type": "code",
   "execution_count": 8,
   "metadata": {},
   "outputs": [],
   "source": [
    "class ResidualBlock(nn.Module):\n",
    "    def __init__(self, in_channels, out_channels):\n",
    "        super(ResidualBlock, self).__init__()\n",
    "        self.conv1 = nn.Conv2d(in_channels, out_channels, kernel_size=3, padding=1)\n",
    "        self.bn1 = nn.BatchNorm2d(out_channels)\n",
    "        self.relu = nn.ReLU(inplace=True)\n",
    "        self.conv2 = nn.Conv2d(out_channels, out_channels, kernel_size=3, padding=1)\n",
    "        self.bn2 = nn.BatchNorm2d(out_channels)\n",
    "        self.skip = nn.Conv2d(in_channels, out_channels, kernel_size=1) if in_channels != out_channels else None\n",
    "\n",
    "    def forward(self, x):\n",
    "        identity = x\n",
    "        out = self.conv1(x)\n",
    "        out = self.bn1(out)\n",
    "        out = self.relu(out)\n",
    "        out = self.conv2(out)\n",
    "        out = self.bn2(out)\n",
    "\n",
    "        if self.skip:\n",
    "            identity = self.skip(identity)\n",
    "\n",
    "        out += identity\n",
    "        out = self.relu(out)\n",
    "        return out\n",
    "\n",
    "class ResNetLike(nn.Module):\n",
    "    def __init__(self, *args, **kwargs) -> None:\n",
    "        super().__init__(*args, **kwargs)\n",
    "        self.conv_block1 = nn.Sequential(\n",
    "            nn.Conv2d(3, 16, kernel_size=(3, 3), padding=\"same\"),\n",
    "            nn.ReLU(),\n",
    "            nn.MaxPool2d(kernel_size=(2, 2)),\n",
    "        )\n",
    "        self.res_block1 = ResidualBlock(16, 32)\n",
    "        self.res_block2 = ResidualBlock(32, 64)\n",
    "        self.res_block3 = ResidualBlock(64, 128)\n",
    "        self.global_pool = nn.AdaptiveMaxPool2d((1, 1))\n",
    "        self.fully_connected = nn.Sequential(\n",
    "            nn.Linear(128, 64),\n",
    "            nn.ReLU(),\n",
    "            nn.Linear(64, 32),\n",
    "            nn.ReLU(),\n",
    "            nn.Linear(32, 2),\n",
    "            nn.Tanh(),\n",
    "        )\n",
    "\n",
    "    def forward(self, x: torch.Tensor):\n",
    "        x = self.conv_block1(x)\n",
    "        x = self.res_block1(x)\n",
    "        x = self.res_block2(x)\n",
    "        x = self.res_block3(x)\n",
    "        x = self.global_pool(x)\n",
    "        x = x.flatten(1, -1)\n",
    "        x = self.fully_connected(x)\n",
    "        return x"
   ]
  },
  {
   "cell_type": "code",
   "execution_count": 24,
   "metadata": {},
   "outputs": [
    {
     "name": "stdout",
     "output_type": "stream",
     "text": [
      "ResNetLike(\n",
      "  (conv_block1): Sequential(\n",
      "    (0): Conv2d(3, 16, kernel_size=(3, 3), stride=(1, 1), padding=same)\n",
      "    (1): ReLU()\n",
      "    (2): MaxPool2d(kernel_size=(2, 2), stride=(2, 2), padding=0, dilation=1, ceil_mode=False)\n",
      "  )\n",
      "  (res_block1): ResidualBlock(\n",
      "    (conv1): Conv2d(16, 32, kernel_size=(3, 3), stride=(1, 1), padding=(1, 1))\n",
      "    (bn1): BatchNorm2d(32, eps=1e-05, momentum=0.1, affine=True, track_running_stats=True)\n",
      "    (relu): ReLU(inplace=True)\n",
      "    (conv2): Conv2d(32, 32, kernel_size=(3, 3), stride=(1, 1), padding=(1, 1))\n",
      "    (bn2): BatchNorm2d(32, eps=1e-05, momentum=0.1, affine=True, track_running_stats=True)\n",
      "    (skip): Conv2d(16, 32, kernel_size=(1, 1), stride=(1, 1))\n",
      "  )\n",
      "  (res_block2): ResidualBlock(\n",
      "    (conv1): Conv2d(32, 64, kernel_size=(3, 3), stride=(1, 1), padding=(1, 1))\n",
      "    (bn1): BatchNorm2d(64, eps=1e-05, momentum=0.1, affine=True, track_running_stats=True)\n",
      "    (relu): ReLU(inplace=True)\n",
      "    (conv2): Conv2d(64, 64, kernel_size=(3, 3), stride=(1, 1), padding=(1, 1))\n",
      "    (bn2): BatchNorm2d(64, eps=1e-05, momentum=0.1, affine=True, track_running_stats=True)\n",
      "    (skip): Conv2d(32, 64, kernel_size=(1, 1), stride=(1, 1))\n",
      "  )\n",
      "  (res_block3): ResidualBlock(\n",
      "    (conv1): Conv2d(64, 128, kernel_size=(3, 3), stride=(1, 1), padding=(1, 1))\n",
      "    (bn1): BatchNorm2d(128, eps=1e-05, momentum=0.1, affine=True, track_running_stats=True)\n",
      "    (relu): ReLU(inplace=True)\n",
      "    (conv2): Conv2d(128, 128, kernel_size=(3, 3), stride=(1, 1), padding=(1, 1))\n",
      "    (bn2): BatchNorm2d(128, eps=1e-05, momentum=0.1, affine=True, track_running_stats=True)\n",
      "    (skip): Conv2d(64, 128, kernel_size=(1, 1), stride=(1, 1))\n",
      "  )\n",
      "  (global_pool): AdaptiveMaxPool2d(output_size=(1, 1))\n",
      "  (fully_connected): Sequential(\n",
      "    (0): Linear(in_features=128, out_features=64, bias=True)\n",
      "    (1): ReLU()\n",
      "    (2): Linear(in_features=64, out_features=32, bias=True)\n",
      "    (3): ReLU()\n",
      "    (4): Linear(in_features=32, out_features=2, bias=True)\n",
      "    (5): Tanh()\n",
      "  )\n",
      ")\n",
      "Total number of parameters = 313474\n"
     ]
    }
   ],
   "source": [
    "resnetlike_model = ResNetLike()\n",
    "optimizer = torch.optim.Adam(resnetlike_model.parameters())\n",
    "loss = nn.MSELoss()\n",
    "print(resnetlike_model)\n",
    "print(f\"Total number of parameters = {sum(p.numel() for p in resnetlike_model.parameters())}\")"
   ]
  },
  {
   "cell_type": "code",
   "execution_count": 25,
   "metadata": {},
   "outputs": [
    {
     "name": "stderr",
     "output_type": "stream",
     "text": [
      "100%|██████████| 83/83 [00:29<00:00,  2.81it/s]\n",
      "100%|██████████| 18/18 [00:03<00:00,  5.55it/s]\n"
     ]
    },
    {
     "name": "stdout",
     "output_type": "stream",
     "text": [
      "Epoch 1 \t\t Training Loss: 0.24507014686802783 \t\t Validation Loss: 0.6421665830744637\n",
      "Validation Loss Decreased(inf--->11.558998) \t Saving The Model\n"
     ]
    },
    {
     "name": "stderr",
     "output_type": "stream",
     "text": [
      "100%|██████████| 83/83 [00:29<00:00,  2.82it/s]\n",
      "100%|██████████| 18/18 [00:02<00:00,  6.52it/s]\n"
     ]
    },
    {
     "name": "stdout",
     "output_type": "stream",
     "text": [
      "Epoch 2 \t\t Training Loss: 0.19646584942757364 \t\t Validation Loss: 0.4473227138320605\n",
      "Validation Loss Decreased(11.558998--->8.051809) \t Saving The Model\n"
     ]
    },
    {
     "name": "stderr",
     "output_type": "stream",
     "text": [
      "100%|██████████| 83/83 [00:29<00:00,  2.83it/s]\n",
      "100%|██████████| 18/18 [00:02<00:00,  6.59it/s]\n"
     ]
    },
    {
     "name": "stdout",
     "output_type": "stream",
     "text": [
      "Epoch 3 \t\t Training Loss: 0.1350345976920013 \t\t Validation Loss: 0.34822115467654335\n",
      "Validation Loss Decreased(8.051809--->6.267981) \t Saving The Model\n"
     ]
    },
    {
     "name": "stderr",
     "output_type": "stream",
     "text": [
      "100%|██████████| 83/83 [00:28<00:00,  2.91it/s]\n",
      "100%|██████████| 18/18 [00:02<00:00,  6.71it/s]\n"
     ]
    },
    {
     "name": "stdout",
     "output_type": "stream",
     "text": [
      "Epoch 4 \t\t Training Loss: 0.11377634099089956 \t\t Validation Loss: 0.34038324488533866\n",
      "Validation Loss Decreased(6.267981--->6.126898) \t Saving The Model\n"
     ]
    },
    {
     "name": "stderr",
     "output_type": "stream",
     "text": [
      "100%|██████████| 83/83 [00:28<00:00,  2.91it/s]\n",
      "100%|██████████| 18/18 [00:02<00:00,  6.64it/s]\n"
     ]
    },
    {
     "name": "stdout",
     "output_type": "stream",
     "text": [
      "Epoch 5 \t\t Training Loss: 0.10633038065160613 \t\t Validation Loss: 0.2813343409862783\n",
      "Validation Loss Decreased(6.126898--->5.064018) \t Saving The Model\n"
     ]
    },
    {
     "name": "stderr",
     "output_type": "stream",
     "text": [
      "100%|██████████| 83/83 [00:28<00:00,  2.90it/s]\n",
      "100%|██████████| 18/18 [00:02<00:00,  6.60it/s]\n"
     ]
    },
    {
     "name": "stdout",
     "output_type": "stream",
     "text": [
      "Epoch 6 \t\t Training Loss: 0.10066938687519855 \t\t Validation Loss: 0.2705252605179946\n",
      "Validation Loss Decreased(5.064018--->4.869455) \t Saving The Model\n"
     ]
    },
    {
     "name": "stderr",
     "output_type": "stream",
     "text": [
      "100%|██████████| 83/83 [00:29<00:00,  2.82it/s]\n",
      "100%|██████████| 18/18 [00:02<00:00,  6.59it/s]\n"
     ]
    },
    {
     "name": "stdout",
     "output_type": "stream",
     "text": [
      "Epoch 7 \t\t Training Loss: 0.09636040373020861 \t\t Validation Loss: 0.3701676022675302\n"
     ]
    },
    {
     "name": "stderr",
     "output_type": "stream",
     "text": [
      "100%|██████████| 83/83 [00:28<00:00,  2.91it/s]\n",
      "100%|██████████| 18/18 [00:02<00:00,  6.65it/s]\n"
     ]
    },
    {
     "name": "stdout",
     "output_type": "stream",
     "text": [
      "Epoch 8 \t\t Training Loss: 0.08751585859670696 \t\t Validation Loss: 0.35116397092739743\n"
     ]
    },
    {
     "name": "stderr",
     "output_type": "stream",
     "text": [
      "100%|██████████| 83/83 [00:28<00:00,  2.91it/s]\n",
      "100%|██████████| 18/18 [00:02<00:00,  6.67it/s]\n"
     ]
    },
    {
     "name": "stdout",
     "output_type": "stream",
     "text": [
      "Epoch 9 \t\t Training Loss: 0.08129758921911917 \t\t Validation Loss: 0.4232813244064649\n"
     ]
    },
    {
     "name": "stderr",
     "output_type": "stream",
     "text": [
      "100%|██████████| 83/83 [00:28<00:00,  2.91it/s]\n",
      "100%|██████████| 18/18 [00:02<00:00,  6.61it/s]\n"
     ]
    },
    {
     "name": "stdout",
     "output_type": "stream",
     "text": [
      "Epoch 10 \t\t Training Loss: 0.07589217854371991 \t\t Validation Loss: 0.5590106364753511\n"
     ]
    },
    {
     "name": "stderr",
     "output_type": "stream",
     "text": [
      "100%|██████████| 83/83 [00:28<00:00,  2.91it/s]\n",
      "100%|██████████| 18/18 [00:02<00:00,  6.66it/s]\n"
     ]
    },
    {
     "name": "stdout",
     "output_type": "stream",
     "text": [
      "Epoch 11 \t\t Training Loss: 0.08172755661499069 \t\t Validation Loss: 0.32597382159696686\n"
     ]
    },
    {
     "name": "stderr",
     "output_type": "stream",
     "text": [
      "100%|██████████| 83/83 [00:28<00:00,  2.91it/s]\n",
      "100%|██████████| 18/18 [00:02<00:00,  6.63it/s]\n"
     ]
    },
    {
     "name": "stdout",
     "output_type": "stream",
     "text": [
      "Epoch 12 \t\t Training Loss: 0.07802554668791323 \t\t Validation Loss: 0.3521321184105343\n"
     ]
    },
    {
     "name": "stderr",
     "output_type": "stream",
     "text": [
      "100%|██████████| 83/83 [00:28<00:00,  2.91it/s]\n",
      "100%|██████████| 18/18 [00:02<00:00,  6.66it/s]\n"
     ]
    },
    {
     "name": "stdout",
     "output_type": "stream",
     "text": [
      "Epoch 13 \t\t Training Loss: 0.06590507709118257 \t\t Validation Loss: 0.30421346260441673\n"
     ]
    },
    {
     "name": "stderr",
     "output_type": "stream",
     "text": [
      "100%|██████████| 83/83 [00:28<00:00,  2.91it/s]\n",
      "100%|██████████| 18/18 [00:02<00:00,  6.51it/s]\n"
     ]
    },
    {
     "name": "stdout",
     "output_type": "stream",
     "text": [
      "Epoch 14 \t\t Training Loss: 0.061720463234078454 \t\t Validation Loss: 0.2628064677119255\n",
      "Validation Loss Decreased(4.869455--->4.730516) \t Saving The Model\n"
     ]
    },
    {
     "name": "stderr",
     "output_type": "stream",
     "text": [
      "100%|██████████| 83/83 [00:28<00:00,  2.91it/s]\n",
      "100%|██████████| 18/18 [00:02<00:00,  6.62it/s]"
     ]
    },
    {
     "name": "stdout",
     "output_type": "stream",
     "text": [
      "Epoch 15 \t\t Training Loss: 0.07037991141698446 \t\t Validation Loss: 0.26193652633163667\n",
      "Validation Loss Decreased(4.730516--->4.714857) \t Saving The Model\n"
     ]
    },
    {
     "name": "stderr",
     "output_type": "stream",
     "text": [
      "\n"
     ]
    }
   ],
   "source": [
    "train_model(\n",
    "    resnetlike_model,\n",
    "    epochs=15,\n",
    "    trainloader=train_dataloader,\n",
    "    validloader=val_dataloader,\n",
    "    optimizer=optimizer,\n",
    "    loss_func=loss,\n",
    "    model_save_path=f'{MODELS_DIR}/Model3.pth',\n",
    "    force_cuda=True\n",
    ")"
   ]
  },
  {
   "cell_type": "code",
   "execution_count": 26,
   "metadata": {},
   "outputs": [
    {
     "name": "stdout",
     "output_type": "stream",
     "text": [
      "Test Loss: 0.1143\n"
     ]
    }
   ],
   "source": [
    "resnetlike_model.load_state_dict(torch.load('Model3.pth'))\n",
    "\n",
    "avg_loss = evaluate_model(resnetlike_model, test_dataloader, nn.MSELoss())\n",
    "print(f'Test Loss: {avg_loss:.4f}')"
   ]
  },
  {
   "cell_type": "markdown",
   "metadata": {},
   "source": [
    "## Exporting to ONNX"
   ]
  },
  {
   "cell_type": "code",
   "execution_count": 41,
   "metadata": {},
   "outputs": [],
   "source": [
    "import onnxruntime as ort\n",
    "\n",
    "input_t = torch.randint(0, 256, (1, 3, 224, 224), dtype=torch.float32)\n",
    "\n",
    "def export_to_onnx(model_cls: type[nn.Module], pth_file: str, onnx_file: str):\n",
    "    model = model_cls()\n",
    "    model.load_state_dict(torch.load(pth_file))\n",
    "    onnx_program = torch.onnx.export(model, input_t, onnx_file, opset_version=11)\n",
    "\n",
    "def run_onnx_on_dummy_input(onnx_file: str):\n",
    "    ort_sess = ort.InferenceSession(onnx_file)\n",
    "    outputs = ort_sess.run(None, {'input.1': input_t.numpy()})\n",
    "\n",
    "    # Print Result\n",
    "    # predicted, actual = classes[outputs[0][0].argmax(0)], classes[y]\n",
    "    # print(f'Predicted: \"{predicted}\", Actual: \"{actual}\"')\n",
    "    return outputs"
   ]
  },
  {
   "cell_type": "code",
   "execution_count": 36,
   "metadata": {},
   "outputs": [],
   "source": [
    "models_cls = [ClassicConv, DeepConv, ResNetLike]\n",
    "pth_files = [f\"Model{i}.pth\" for i in (1,2,3)]\n",
    "onnx_files = [f\"Model{i}.onnx\" for i in (1,2,3)]\n",
    "\n",
    "for model_cls, pth_file, onnx_file in zip(models_cls, pth_files, onnx_files):\n",
    "    export_to_onnx(model_cls, pth_file, onnx_file)"
   ]
  },
  {
   "cell_type": "code",
   "execution_count": 46,
   "metadata": {},
   "outputs": [
    {
     "data": {
      "text/plain": [
       "[array([[0.8325899 , 0.00761106]], dtype=float32)]"
      ]
     },
     "execution_count": 46,
     "metadata": {},
     "output_type": "execute_result"
    }
   ],
   "source": [
    "run_onnx_on_dummy_input(onnx_files[1])"
   ]
  }
 ],
 "metadata": {
  "kernelspec": {
   "display_name": "base",
   "language": "python",
   "name": "python3"
  },
  "language_info": {
   "codemirror_mode": {
    "name": "ipython",
    "version": 3
   },
   "file_extension": ".py",
   "mimetype": "text/x-python",
   "name": "python",
   "nbconvert_exporter": "python",
   "pygments_lexer": "ipython3",
   "version": "3.10.14"
  }
 },
 "nbformat": 4,
 "nbformat_minor": 2
}
